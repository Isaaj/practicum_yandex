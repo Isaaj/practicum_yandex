{
 "cells": [
  {
   "cell_type": "markdown",
   "id": "114a670e",
   "metadata": {
    "toc": true
   },
   "source": [
    "<h1>Table of Contents<span class=\"tocSkip\"></span></h1>\n",
    "<div class=\"toc\"><ul class=\"toc-item\"><li><span><a href=\"#Таблица-game_actions\" data-toc-modified-id=\"Таблица-game_actions-1\"><span class=\"toc-item-num\">1&nbsp;&nbsp;</span>Таблица <code>game_actions</code></a></span></li><li><span><a href=\"#Таблица-game_actions\" data-toc-modified-id=\"Таблица-game_actions-2\"><span class=\"toc-item-num\">2&nbsp;&nbsp;</span>Таблица <code>game_actions</code></a></span></li></ul></div>"
   ]
  },
  {
   "cell_type": "markdown",
   "id": "53363c4f",
   "metadata": {},
   "source": [
    "<div style=\"border: solid indigo 1px; border-radius: 15px; box-shadow: 1px 1px 1px; padding: 20px\">\n",
    "<p>\n",
    "    \n",
    "###### Таблица `game_actions`\n",
    "    \n",
    "Каждая строка в таблице - запись об уникальном событии содержащая следующие данные:\n",
    "- `event_datetime` — время события;\n",
    "- `event` — одно из трёх событий:\n",
    "    1. `building` — объект построен,\n",
    "    2. `finished_stage_1` — первый уровень завершён,\n",
    "    3. `project` — проект завершён;\n",
    "    \n",
    "   \n",
    "- `building_type` — один из трёх типов здания:\n",
    "    1. `assembly_shop` — сборочный цех,\n",
    "    2. `spaceport` — космопорт,\n",
    "    3. `research_center` — исследовательский центр;\n",
    "    \n",
    "    \n",
    "- `user_id` — идентификатор пользователя;\n",
    "- `project_type` — тип реализованного проекта.\n",
    "</p>\n",
    "</div>"
   ]
  },
  {
   "cell_type": "markdown",
   "id": "fb9d0fcf",
   "metadata": {},
   "source": [
    "###### Таблица `game_actions`\n",
    "    \n",
    "Каждая строка в таблице - запись об уникальном событии содержащая следующие данные:\n",
    "- `event_datetime` — время события;\n",
    "- `event` — одно из трёх событий:\n",
    "    1. `building` — объект построен,\n",
    "    2. `finished_stage_1` — первый уровень завершён,\n",
    "    3. `project` — проект завершён;\n",
    "    \n",
    "   \n",
    "- `building_type` — один из трёх типов здания:\n",
    "    1. `assembly_shop` — сборочный цех,\n",
    "    2. `spaceport` — космопорт,\n",
    "    3. `research_center` — исследовательский центр;\n",
    "    \n",
    "    \n",
    "- `user_id` — идентификатор пользователя;\n",
    "- `project_type` — тип реализованного проекта."
   ]
  }
 ],
 "metadata": {
  "kernelspec": {
   "display_name": "Python 3 (ipykernel)",
   "language": "python",
   "name": "python3"
  },
  "language_info": {
   "codemirror_mode": {
    "name": "ipython",
    "version": 3
   },
   "file_extension": ".py",
   "mimetype": "text/x-python",
   "name": "python",
   "nbconvert_exporter": "python",
   "pygments_lexer": "ipython3",
   "version": "3.9.12"
  },
  "toc": {
   "base_numbering": 1,
   "nav_menu": {},
   "number_sections": true,
   "sideBar": true,
   "skip_h1_title": true,
   "title_cell": "Table of Contents",
   "title_sidebar": "Contents",
   "toc_cell": true,
   "toc_position": {},
   "toc_section_display": true,
   "toc_window_display": false
  }
 },
 "nbformat": 4,
 "nbformat_minor": 5
}
