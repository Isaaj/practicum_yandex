{
 "cells": [
  {
   "cell_type": "markdown",
   "id": "4e87ffa5",
   "metadata": {
    "toc": true
   },
   "source": [
    "<h1>Table of Contents<span class=\"tocSkip\"></span></h1>\n",
    "<div class=\"toc\"><ul class=\"toc-item\"><li><span><a href=\"#Предобработка-данных\" data-toc-modified-id=\"Предобработка-данных-1\"><span class=\"toc-item-num\">1&nbsp;&nbsp;</span>Предобработка данных</a></span><ul class=\"toc-item\"><li><span><a href=\"#Знакомство-с-данными\" data-toc-modified-id=\"Знакомство-с-данными-1.1\"><span class=\"toc-item-num\">1.1&nbsp;&nbsp;</span>Знакомство с данными</a></span></li><li><span><a href=\"#Типы-данных-и-дубликаты\" data-toc-modified-id=\"Типы-данных-и-дубликаты-1.2\"><span class=\"toc-item-num\">1.2&nbsp;&nbsp;</span>Типы данных и дубликаты</a></span></li><li><span><a href=\"#Пропуски-в-данных\" data-toc-modified-id=\"Пропуски-в-данных-1.3\"><span class=\"toc-item-num\">1.3&nbsp;&nbsp;</span>Пропуски в данных</a></span></li><li><span><a href=\"#Производные-таблицы-и-метрики\" data-toc-modified-id=\"Производные-таблицы-и-метрики-1.4\"><span class=\"toc-item-num\">1.4&nbsp;&nbsp;</span>Производные таблицы и метрики</a></span><ul class=\"toc-item\"><li><span><a href=\"#Пользовательские-профили\" data-toc-modified-id=\"Пользовательские-профили-1.4.1\"><span class=\"toc-item-num\">1.4.1&nbsp;&nbsp;</span>Пользовательские профили</a></span></li><li><span><a href=\"#Дата-привлечения-и-лайфтайм-в-логах\" data-toc-modified-id=\"Дата-привлечения-и-лайфтайм-в-логах-1.4.2\"><span class=\"toc-item-num\">1.4.2&nbsp;&nbsp;</span>Дата привлечения и лайфтайм в логах</a></span></li></ul></li><li><span><a href=\"#Предобработка.-Выводы\" data-toc-modified-id=\"Предобработка.-Выводы-1.5\"><span class=\"toc-item-num\">1.5&nbsp;&nbsp;</span>Предобработка. Выводы</a></span></li></ul></li><li><span><a href=\"#Исследовательский-анализ-данных\" data-toc-modified-id=\"Исследовательский-анализ-данных-2\"><span class=\"toc-item-num\">2&nbsp;&nbsp;</span>Исследовательский анализ данных</a></span><ul class=\"toc-item\"><li><span><a href=\"#Период-данных-и-продолжительность-пользовательского-пути\" data-toc-modified-id=\"Период-данных-и-продолжительность-пользовательского-пути-2.1\"><span class=\"toc-item-num\">2.1&nbsp;&nbsp;</span>Период данных и продолжительность пользовательского пути</a></span></li><li><span><a href=\"#Влияние-даты-привлечения\" data-toc-modified-id=\"Влияние-даты-привлечения-2.2\"><span class=\"toc-item-num\">2.2&nbsp;&nbsp;</span>Влияние даты привлечения</a></span></li><li><span><a href=\"#Пользователи-из-разных-источников-траффика\" data-toc-modified-id=\"Пользователи-из-разных-источников-траффика-2.3\"><span class=\"toc-item-num\">2.3&nbsp;&nbsp;</span>Пользователи из разных источников траффика</a></span></li><li><span><a href=\"#Изучение-распределения-типов-зданий\" data-toc-modified-id=\"Изучение-распределения-типов-зданий-2.4\"><span class=\"toc-item-num\">2.4&nbsp;&nbsp;</span>Изучение распределения типов зданий</a></span><ul class=\"toc-item\"><li><span><a href=\"#Сборочные-цеха\" data-toc-modified-id=\"Сборочные-цеха-2.4.1\"><span class=\"toc-item-num\">2.4.1&nbsp;&nbsp;</span>Сборочные цеха</a></span></li><li><span><a href=\"#Космопорты\" data-toc-modified-id=\"Космопорты-2.4.2\"><span class=\"toc-item-num\">2.4.2&nbsp;&nbsp;</span>Космопорты</a></span></li><li><span><a href=\"#Исследовательские-центры\" data-toc-modified-id=\"Исследовательские-центры-2.4.3\"><span class=\"toc-item-num\">2.4.3&nbsp;&nbsp;</span>Исследовательские центры</a></span></li></ul></li><li><span><a href=\"#Влияние-стиля-игры---агрессивного-/-мирного\" data-toc-modified-id=\"Влияние-стиля-игры---агрессивного-/-мирного-2.5\"><span class=\"toc-item-num\">2.5&nbsp;&nbsp;</span>Влияние стиля игры - агрессивного / мирного</a></span></li><li><span><a href=\"#Влияние-событий-на-факт-завершения-уровня\" data-toc-modified-id=\"Влияние-событий-на-факт-завершения-уровня-2.6\"><span class=\"toc-item-num\">2.6&nbsp;&nbsp;</span>Влияние событий на факт завершения уровня</a></span></li><li><span><a href=\"#EDA.-Выводы\" data-toc-modified-id=\"EDA.-Выводы-2.7\"><span class=\"toc-item-num\">2.7&nbsp;&nbsp;</span>EDA. Выводы</a></span></li></ul></li><li><span><a href=\"#Модель-монетизации\" data-toc-modified-id=\"Модель-монетизации-3\"><span class=\"toc-item-num\">3&nbsp;&nbsp;</span>Модель монетизации</a></span><ul class=\"toc-item\"><li><span><a href=\"#Сравнение-моделей-монетизации\" data-toc-modified-id=\"Сравнение-моделей-монетизации-3.1\"><span class=\"toc-item-num\">3.1&nbsp;&nbsp;</span>Сравнение моделей монетизации</a></span></li><li><span><a href=\"#Определение-момента,-когда-можно-показывать-рекламу\" data-toc-modified-id=\"Определение-момента,-когда-можно-показывать-рекламу-3.2\"><span class=\"toc-item-num\">3.2&nbsp;&nbsp;</span>Определение момента, когда можно показывать рекламу</a></span></li><li><span><a href=\"#Монетизация.-Выводы\" data-toc-modified-id=\"Монетизация.-Выводы-3.3\"><span class=\"toc-item-num\">3.3&nbsp;&nbsp;</span>Монетизация. Выводы</a></span></li></ul></li><li><span><a href=\"#Проверка-статистических-гипотез\" data-toc-modified-id=\"Проверка-статистических-гипотез-4\"><span class=\"toc-item-num\">4&nbsp;&nbsp;</span>Проверка статистических гипотез</a></span><ul class=\"toc-item\"><li><span><a href=\"#Гипотеза-различия-времени-прохождения-уровня-между-пользователями-с-различными-стилями-игры\" data-toc-modified-id=\"Гипотеза-различия-времени-прохождения-уровня-между-пользователями-с-различными-стилями-игры-4.1\"><span class=\"toc-item-num\">4.1&nbsp;&nbsp;</span>Гипотеза различия времени прохождения уровня между пользователями с различными стилями игры</a></span></li><li><span><a href=\"#Гипотеза-различия-числа-показов-рекламы-между-пользователями-с-различными-стилями-игры\" data-toc-modified-id=\"Гипотеза-различия-числа-показов-рекламы-между-пользователями-с-различными-стилями-игры-4.2\"><span class=\"toc-item-num\">4.2&nbsp;&nbsp;</span>Гипотеза различия числа показов рекламы между пользователями с различными стилями игры</a></span></li><li><span><a href=\"#Проверка-гипотез.-Выводы\" data-toc-modified-id=\"Проверка-гипотез.-Выводы-4.3\"><span class=\"toc-item-num\">4.3&nbsp;&nbsp;</span>Проверка гипотез. Выводы</a></span></li></ul></li><li><span><a href=\"#Итоги-исследования\" data-toc-modified-id=\"Итоги-исследования-5\"><span class=\"toc-item-num\">5&nbsp;&nbsp;</span>Итоги исследования</a></span></li></ul></div>"
   ]
  },
  {
   "cell_type": "markdown",
   "id": "1508b4ed",
   "metadata": {},
   "source": [
    "# Модель монетизации игрового приложения «Космические братья»\n",
    "\n",
    "###### Контекст\n",
    "\n",
    "Заказчик - менеджер продукта игрового приложения «Космические братья». На данном этапе в игре нет монетизации и ее планируется реализовать показом рекламы на экране с выбором типа объекта для постройки. Команда хочет найти баланс между слишком ранним показом рекламы, что может отпугнуть невовлеченных игроков, и слишком поздним показом, что означает упущенную прибыль. Также заказчик хочет понять что из себя представляют наши игроки.\n",
    "\n",
    "###### Цели\n",
    "\n",
    "- Расчитать различные сценарии монетизации и выбрать наиболее оптимальный;\n",
    "- Определить факторы влияющие на переход на новый уровень;\n",
    "- Определить группы пользователей со статистически значимыми различиями;\n",
    "\n",
    "###### Данные\n",
    "\n",
    "Заказчик предоставил нам событийные логи пользователей `ad_cost`, и два датасета с маркетинговыми данными: `ad_cost` со стоимостью рекламных компаний и `user_source` с информацией об источнике пользователя.\n",
    "\n",
    "В датасете представлены данные по игре пользователей на первом уровне. Завершение первого уровня требует от игрока выполнения одного из двух условий:\n",
    "\n",
    "- Победа над первым врагом\n",
    "- Реализация проекта - разработка орбитальной сборки спутников\n",
    "\n",
    "В датасете содержатся данные первых пользователей приложения — когорты пользователей, которые начали пользоваться приложением в период с 4 по 10 мая включительно."
   ]
  },
  {
   "cell_type": "markdown",
   "id": "62d07d35",
   "metadata": {},
   "source": [
    "[Презентация](https://disk.yandex.ru/i/d6kXyYctBYF5Cg)\n",
    "\n",
    "[Дашборд](https://public.tableau.com/app/profile/rinat.kildiyarov/viz/Cosmobrothers/Mars_DASH?publish=yes)"
   ]
  },
  {
   "cell_type": "markdown",
   "id": "1659f64c",
   "metadata": {},
   "source": [
    "###### Библиотеки и настройки"
   ]
  },
  {
   "cell_type": "code",
   "execution_count": 1,
   "id": "35f5f524",
   "metadata": {},
   "outputs": [],
   "source": [
    "import pandas as pd\n",
    "from scipy import stats as st\n",
    "from matplotlib import pyplot as plt\n",
    "import seaborn as sns\n",
    "from datetime import timedelta\n",
    "from scipy import stats as st\n",
    "sns.set()\n",
    "\n",
    "# увеличим дефолтные настройки графиков\n",
    "from pylab import rcParams\n",
    "rcParams['figure.figsize'] = 13, 6\n",
    "rcParams['axes.titlesize'] = 18\n",
    "rcParams['axes.labelsize'] = 14\n",
    "rcParams['xtick.labelsize'] = 12\n",
    "rcParams['ytick.labelsize'] = 12"
   ]
  },
  {
   "cell_type": "markdown",
   "id": "84625664",
   "metadata": {},
   "source": [
    "###### Функции"
   ]
  },
  {
   "cell_type": "code",
   "execution_count": 2,
   "id": "2c6fe418",
   "metadata": {},
   "outputs": [],
   "source": [
    "# функция для знакомства с данными\n",
    "def description(file_name):\n",
    "    # импортируем данные, либо с локального хранилища, либо с хранилища практикума\n",
    "    try:\n",
    "        df = pd.read_csv('datasets/' + file_name)\n",
    "    except:\n",
    "        df = pd.read_csv('/datasets/' + file_name)\n",
    "    \n",
    "    print('Первые 5 строк датафрейма:')\n",
    "    display(df.head())\n",
    "    \n",
    "    print('\\nИнформация о датафрейме:\\n')\n",
    "    df.info()\n",
    "    \n",
    "    print('\\nДублицаты в датафрейме:')\n",
    "    display(df[df.duplicated()])\n",
    "    \n",
    "    return df\n",
    "\n",
    "\n",
    "# функция исследования пропусков в game_actions\n",
    "def na_inspector(column):\n",
    "    print(f'''Значения в event, при пропуске в {column} {game_actions[game_actions[column].isna()].event.unique()}\n",
    "Значения в event, без пропуска в {column} {game_actions[~game_actions[column].isna()].event.unique()}''')\n",
    "\n",
    "\n",
    "# функция разворачивает колонку dummies, группирует df по by и выводит отформатированную таблицу\n",
    "def dummies_groupby(df, by, dummies):\n",
    "    formating = df[dummies].unique()\n",
    "    return pd.get_dummies(df.dropna(subset=[dummies]), columns=[dummies], prefix='', prefix_sep='')\\\n",
    "                        .groupby(by, as_index=False).mean()\\\n",
    "                        .style.format({formating[0]: '{:.2%}',\n",
    "                                       formating[1]: '{:.2%}',\n",
    "                                       formating[2]: '{:.2%}'})\n",
    "\n",
    "\n",
    "# функция строит violinplot для column с разбивкой по ending\n",
    "def violin_for_winners(column, name):\n",
    "    sns.violinplot(data=buildings, y=column, x='ending')\n",
    "    plt.title(f'Распределение {name} в зависимости от факта завершения уровня')\n",
    "    plt.xlabel('Завершил ли игрок уровень или попал в отток')\n",
    "    plt.ylabel(f'Число {name}')\n",
    "    plt.show()\n",
    "\n",
    "\n",
    "# функция считает и возвращает ROMI\n",
    "def romi(condition):\n",
    "    romi = round(\n",
    "        ((build_df.query(condition).event.count() * 0.07 - profiles.cac.sum()) /\n",
    "         profiles.cac.sum() * 100), 2)\n",
    "    return romi\n",
    "\n",
    "\n",
    "# Визуализирует ROMI для числа дней days и монетизации после buildings зданий\n",
    "def plot_romi(days, buildings):\n",
    "    romi_list = []\n",
    "    days = [x + 1 for x in range(days)]\n",
    "    for day in days:\n",
    "        romi_list.append(romi(f'lifetime >= {day} and building_num > {buildings}'))\n",
    "    \n",
    "    plt.figure(figsize=(10, 7))\n",
    "    sns.barplot(x=days, y=romi_list)\n",
    "    plt.title(f'ROMI при монетизации включении монетизации после {buildings}-й постройки')\n",
    "    plt.ylabel('ROMI')\n",
    "    plt.xlabel('День включения монетизации')\n",
    "    plt.show()\n",
    "\n",
    "\n",
    "# функция проводит u-test Манна-Уитни отличия в признаке df.sign между constructive и aggressive пользователями\n",
    "def hypothesting(df, sign):\n",
    "    cons = df.loc[df.lifestyle == 'constructive', sign]\n",
    "    aggr = df.loc[df.lifestyle == 'aggressive', sign]\n",
    "    \n",
    "    # уровень статистической значимости\n",
    "    alpha = 0.05\n",
    "    \n",
    "    pvalue = st.mannwhitneyu(cons, aggr).pvalue\n",
    "    \n",
    "    print('p-value: ', pvalue)\n",
    "    if pvalue < alpha:\n",
    "        print(\"Отвергаем нулевую гипотезу\")\n",
    "    else:\n",
    "        print(\"Не получилось отвергнуть нулевую гипотезу\")\n",
    "    \n",
    "    cons_mean = cons.mean()\n",
    "    aggr_mean = aggr.mean()\n",
    "    print(f'''\\nСредний {sign} для группы constructive: {round(cons_mean, 2)}\n",
    "Средний {sign} для группы aggressive: {round(aggr_mean, 2)}\n",
    "Относительная разница: {cons_mean / aggr_mean - 1:.1%}''')"
   ]
  },
  {
   "cell_type": "markdown",
   "id": "637f507a",
   "metadata": {},
   "source": [
    "## Предобработка данных\n",
    "\n",
    "### Знакомство с данными"
   ]
  },
  {
   "cell_type": "code",
   "execution_count": 3,
   "id": "2e2f8a51",
   "metadata": {},
   "outputs": [
    {
     "name": "stdout",
     "output_type": "stream",
     "text": [
      "Первые 5 строк датафрейма:\n"
     ]
    },
    {
     "data": {
      "text/html": [
       "<div>\n",
       "<style scoped>\n",
       "    .dataframe tbody tr th:only-of-type {\n",
       "        vertical-align: middle;\n",
       "    }\n",
       "\n",
       "    .dataframe tbody tr th {\n",
       "        vertical-align: top;\n",
       "    }\n",
       "\n",
       "    .dataframe thead th {\n",
       "        text-align: right;\n",
       "    }\n",
       "</style>\n",
       "<table border=\"1\" class=\"dataframe\">\n",
       "  <thead>\n",
       "    <tr style=\"text-align: right;\">\n",
       "      <th></th>\n",
       "      <th>event_datetime</th>\n",
       "      <th>event</th>\n",
       "      <th>building_type</th>\n",
       "      <th>user_id</th>\n",
       "      <th>project_type</th>\n",
       "    </tr>\n",
       "  </thead>\n",
       "  <tbody>\n",
       "    <tr>\n",
       "      <th>0</th>\n",
       "      <td>2020-05-04 00:00:01</td>\n",
       "      <td>building</td>\n",
       "      <td>assembly_shop</td>\n",
       "      <td>55e92310-cb8e-4754-b622-597e124b03de</td>\n",
       "      <td>NaN</td>\n",
       "    </tr>\n",
       "    <tr>\n",
       "      <th>1</th>\n",
       "      <td>2020-05-04 00:00:03</td>\n",
       "      <td>building</td>\n",
       "      <td>assembly_shop</td>\n",
       "      <td>c07b1c10-f477-44dc-81dc-ec82254b1347</td>\n",
       "      <td>NaN</td>\n",
       "    </tr>\n",
       "    <tr>\n",
       "      <th>2</th>\n",
       "      <td>2020-05-04 00:00:16</td>\n",
       "      <td>building</td>\n",
       "      <td>assembly_shop</td>\n",
       "      <td>6edd42cc-e753-4ff6-a947-2107cd560710</td>\n",
       "      <td>NaN</td>\n",
       "    </tr>\n",
       "    <tr>\n",
       "      <th>3</th>\n",
       "      <td>2020-05-04 00:00:16</td>\n",
       "      <td>building</td>\n",
       "      <td>assembly_shop</td>\n",
       "      <td>92c69003-d60a-444a-827f-8cc51bf6bf4c</td>\n",
       "      <td>NaN</td>\n",
       "    </tr>\n",
       "    <tr>\n",
       "      <th>4</th>\n",
       "      <td>2020-05-04 00:00:35</td>\n",
       "      <td>building</td>\n",
       "      <td>assembly_shop</td>\n",
       "      <td>cdc6bb92-0ccb-4490-9866-ef142f09139d</td>\n",
       "      <td>NaN</td>\n",
       "    </tr>\n",
       "  </tbody>\n",
       "</table>\n",
       "</div>"
      ],
      "text/plain": [
       "        event_datetime     event  building_type  \\\n",
       "0  2020-05-04 00:00:01  building  assembly_shop   \n",
       "1  2020-05-04 00:00:03  building  assembly_shop   \n",
       "2  2020-05-04 00:00:16  building  assembly_shop   \n",
       "3  2020-05-04 00:00:16  building  assembly_shop   \n",
       "4  2020-05-04 00:00:35  building  assembly_shop   \n",
       "\n",
       "                                user_id project_type  \n",
       "0  55e92310-cb8e-4754-b622-597e124b03de          NaN  \n",
       "1  c07b1c10-f477-44dc-81dc-ec82254b1347          NaN  \n",
       "2  6edd42cc-e753-4ff6-a947-2107cd560710          NaN  \n",
       "3  92c69003-d60a-444a-827f-8cc51bf6bf4c          NaN  \n",
       "4  cdc6bb92-0ccb-4490-9866-ef142f09139d          NaN  "
      ]
     },
     "metadata": {},
     "output_type": "display_data"
    },
    {
     "name": "stdout",
     "output_type": "stream",
     "text": [
      "\n",
      "Информация о датафрейме:\n",
      "\n",
      "<class 'pandas.core.frame.DataFrame'>\n",
      "RangeIndex: 135640 entries, 0 to 135639\n",
      "Data columns (total 5 columns):\n",
      " #   Column          Non-Null Count   Dtype \n",
      "---  ------          --------------   ----- \n",
      " 0   event_datetime  135640 non-null  object\n",
      " 1   event           135640 non-null  object\n",
      " 2   building_type   127957 non-null  object\n",
      " 3   user_id         135640 non-null  object\n",
      " 4   project_type    1866 non-null    object\n",
      "dtypes: object(5)\n",
      "memory usage: 5.2+ MB\n",
      "\n",
      "Дублицаты в датафрейме:\n"
     ]
    },
    {
     "data": {
      "text/html": [
       "<div>\n",
       "<style scoped>\n",
       "    .dataframe tbody tr th:only-of-type {\n",
       "        vertical-align: middle;\n",
       "    }\n",
       "\n",
       "    .dataframe tbody tr th {\n",
       "        vertical-align: top;\n",
       "    }\n",
       "\n",
       "    .dataframe thead th {\n",
       "        text-align: right;\n",
       "    }\n",
       "</style>\n",
       "<table border=\"1\" class=\"dataframe\">\n",
       "  <thead>\n",
       "    <tr style=\"text-align: right;\">\n",
       "      <th></th>\n",
       "      <th>event_datetime</th>\n",
       "      <th>event</th>\n",
       "      <th>building_type</th>\n",
       "      <th>user_id</th>\n",
       "      <th>project_type</th>\n",
       "    </tr>\n",
       "  </thead>\n",
       "  <tbody>\n",
       "    <tr>\n",
       "      <th>74891</th>\n",
       "      <td>2020-05-10 18:41:56</td>\n",
       "      <td>building</td>\n",
       "      <td>research_center</td>\n",
       "      <td>c9af55d2-b0ae-4bb4-b3d5-f32aa9ac03af</td>\n",
       "      <td>NaN</td>\n",
       "    </tr>\n",
       "  </tbody>\n",
       "</table>\n",
       "</div>"
      ],
      "text/plain": [
       "            event_datetime     event    building_type  \\\n",
       "74891  2020-05-10 18:41:56  building  research_center   \n",
       "\n",
       "                                    user_id project_type  \n",
       "74891  c9af55d2-b0ae-4bb4-b3d5-f32aa9ac03af          NaN  "
      ]
     },
     "metadata": {},
     "output_type": "display_data"
    }
   ],
   "source": [
    "game_actions = description('game_actions.csv')"
   ]
  },
  {
   "cell_type": "markdown",
   "id": "2fd1af49",
   "metadata": {},
   "source": [
    "###### Таблица `game_actions`\n",
    "    \n",
    "Каждая строка в таблице - запись об уникальном событии содержащая следующие данные:\n",
    "- `event_datetime` — время события;\n",
    "- `event` — одно из трёх событий:\n",
    "    1. `building` — объект построен,\n",
    "    2. `finished_stage_1` — первый уровень завершён,\n",
    "    3. `project` — проект завершён;\n",
    "    \n",
    "   \n",
    "- `building_type` — один из трёх типов здания:\n",
    "    1. `assembly_shop` — сборочный цех,\n",
    "    2. `spaceport` — космопорт,\n",
    "    3. `research_center` — исследовательский центр;\n",
    "    \n",
    "    \n",
    "- `user_id` — идентификатор пользователя;\n",
    "- `project_type` — тип реализованного проекта.\n",
    "\n",
    "\n",
    "Также в таблице есть несколько проблем требующих обработки:\n",
    "- даты представлены в виде строк;\n",
    "- 1 полный дубликат записи;\n",
    "- пропуски в `building_type` и `project_type`."
   ]
  },
  {
   "cell_type": "code",
   "execution_count": 4,
   "id": "6aabc623",
   "metadata": {
    "scrolled": false
   },
   "outputs": [
    {
     "name": "stdout",
     "output_type": "stream",
     "text": [
      "Первые 5 строк датафрейма:\n"
     ]
    },
    {
     "data": {
      "text/html": [
       "<div>\n",
       "<style scoped>\n",
       "    .dataframe tbody tr th:only-of-type {\n",
       "        vertical-align: middle;\n",
       "    }\n",
       "\n",
       "    .dataframe tbody tr th {\n",
       "        vertical-align: top;\n",
       "    }\n",
       "\n",
       "    .dataframe thead th {\n",
       "        text-align: right;\n",
       "    }\n",
       "</style>\n",
       "<table border=\"1\" class=\"dataframe\">\n",
       "  <thead>\n",
       "    <tr style=\"text-align: right;\">\n",
       "      <th></th>\n",
       "      <th>source</th>\n",
       "      <th>day</th>\n",
       "      <th>cost</th>\n",
       "    </tr>\n",
       "  </thead>\n",
       "  <tbody>\n",
       "    <tr>\n",
       "      <th>0</th>\n",
       "      <td>facebook_ads</td>\n",
       "      <td>2020-05-03</td>\n",
       "      <td>935.882786</td>\n",
       "    </tr>\n",
       "    <tr>\n",
       "      <th>1</th>\n",
       "      <td>facebook_ads</td>\n",
       "      <td>2020-05-04</td>\n",
       "      <td>548.354480</td>\n",
       "    </tr>\n",
       "    <tr>\n",
       "      <th>2</th>\n",
       "      <td>facebook_ads</td>\n",
       "      <td>2020-05-05</td>\n",
       "      <td>260.185754</td>\n",
       "    </tr>\n",
       "    <tr>\n",
       "      <th>3</th>\n",
       "      <td>facebook_ads</td>\n",
       "      <td>2020-05-06</td>\n",
       "      <td>177.982200</td>\n",
       "    </tr>\n",
       "    <tr>\n",
       "      <th>4</th>\n",
       "      <td>facebook_ads</td>\n",
       "      <td>2020-05-07</td>\n",
       "      <td>111.766796</td>\n",
       "    </tr>\n",
       "  </tbody>\n",
       "</table>\n",
       "</div>"
      ],
      "text/plain": [
       "         source         day        cost\n",
       "0  facebook_ads  2020-05-03  935.882786\n",
       "1  facebook_ads  2020-05-04  548.354480\n",
       "2  facebook_ads  2020-05-05  260.185754\n",
       "3  facebook_ads  2020-05-06  177.982200\n",
       "4  facebook_ads  2020-05-07  111.766796"
      ]
     },
     "metadata": {},
     "output_type": "display_data"
    },
    {
     "name": "stdout",
     "output_type": "stream",
     "text": [
      "\n",
      "Информация о датафрейме:\n",
      "\n",
      "<class 'pandas.core.frame.DataFrame'>\n",
      "RangeIndex: 28 entries, 0 to 27\n",
      "Data columns (total 3 columns):\n",
      " #   Column  Non-Null Count  Dtype  \n",
      "---  ------  --------------  -----  \n",
      " 0   source  28 non-null     object \n",
      " 1   day     28 non-null     object \n",
      " 2   cost    28 non-null     float64\n",
      "dtypes: float64(1), object(2)\n",
      "memory usage: 800.0+ bytes\n",
      "\n",
      "Дублицаты в датафрейме:\n"
     ]
    },
    {
     "data": {
      "text/html": [
       "<div>\n",
       "<style scoped>\n",
       "    .dataframe tbody tr th:only-of-type {\n",
       "        vertical-align: middle;\n",
       "    }\n",
       "\n",
       "    .dataframe tbody tr th {\n",
       "        vertical-align: top;\n",
       "    }\n",
       "\n",
       "    .dataframe thead th {\n",
       "        text-align: right;\n",
       "    }\n",
       "</style>\n",
       "<table border=\"1\" class=\"dataframe\">\n",
       "  <thead>\n",
       "    <tr style=\"text-align: right;\">\n",
       "      <th></th>\n",
       "      <th>source</th>\n",
       "      <th>day</th>\n",
       "      <th>cost</th>\n",
       "    </tr>\n",
       "  </thead>\n",
       "  <tbody>\n",
       "  </tbody>\n",
       "</table>\n",
       "</div>"
      ],
      "text/plain": [
       "Empty DataFrame\n",
       "Columns: [source, day, cost]\n",
       "Index: []"
      ]
     },
     "metadata": {},
     "output_type": "display_data"
    }
   ],
   "source": [
    "ad_costs = description('ad_costs.csv')"
   ]
  },
  {
   "cell_type": "markdown",
   "id": "917ec9cc",
   "metadata": {},
   "source": [
    "###### Таблица `ad_costs`\n",
    "\n",
    "Здесь представлены записи о стоимости рекламных компаний проводимых на следующий день после оплаты:\n",
    "- `day` — день оплаты рекламной компании;\n",
    "- `source` — источник трафика;\n",
    "- `cost` — стоимость компании.\n",
    "\n",
    "Для дат, кроме смены типа данных, стоит сместить значения на день вперед для удобства расчетов."
   ]
  },
  {
   "cell_type": "code",
   "execution_count": 5,
   "id": "77986c84",
   "metadata": {
    "scrolled": false
   },
   "outputs": [
    {
     "name": "stdout",
     "output_type": "stream",
     "text": [
      "Первые 5 строк датафрейма:\n"
     ]
    },
    {
     "data": {
      "text/html": [
       "<div>\n",
       "<style scoped>\n",
       "    .dataframe tbody tr th:only-of-type {\n",
       "        vertical-align: middle;\n",
       "    }\n",
       "\n",
       "    .dataframe tbody tr th {\n",
       "        vertical-align: top;\n",
       "    }\n",
       "\n",
       "    .dataframe thead th {\n",
       "        text-align: right;\n",
       "    }\n",
       "</style>\n",
       "<table border=\"1\" class=\"dataframe\">\n",
       "  <thead>\n",
       "    <tr style=\"text-align: right;\">\n",
       "      <th></th>\n",
       "      <th>user_id</th>\n",
       "      <th>source</th>\n",
       "    </tr>\n",
       "  </thead>\n",
       "  <tbody>\n",
       "    <tr>\n",
       "      <th>0</th>\n",
       "      <td>0001f83c-c6ac-4621-b7f0-8a28b283ac30</td>\n",
       "      <td>facebook_ads</td>\n",
       "    </tr>\n",
       "    <tr>\n",
       "      <th>1</th>\n",
       "      <td>00151b4f-ba38-44a8-a650-d7cf130a0105</td>\n",
       "      <td>yandex_direct</td>\n",
       "    </tr>\n",
       "    <tr>\n",
       "      <th>2</th>\n",
       "      <td>001aaea6-3d14-43f1-8ca8-7f48820f17aa</td>\n",
       "      <td>youtube_channel_reklama</td>\n",
       "    </tr>\n",
       "    <tr>\n",
       "      <th>3</th>\n",
       "      <td>001d39dc-366c-4021-9604-6a3b9ff01e25</td>\n",
       "      <td>instagram_new_adverts</td>\n",
       "    </tr>\n",
       "    <tr>\n",
       "      <th>4</th>\n",
       "      <td>002f508f-67b6-479f-814b-b05f00d4e995</td>\n",
       "      <td>facebook_ads</td>\n",
       "    </tr>\n",
       "  </tbody>\n",
       "</table>\n",
       "</div>"
      ],
      "text/plain": [
       "                                user_id                   source\n",
       "0  0001f83c-c6ac-4621-b7f0-8a28b283ac30             facebook_ads\n",
       "1  00151b4f-ba38-44a8-a650-d7cf130a0105            yandex_direct\n",
       "2  001aaea6-3d14-43f1-8ca8-7f48820f17aa  youtube_channel_reklama\n",
       "3  001d39dc-366c-4021-9604-6a3b9ff01e25    instagram_new_adverts\n",
       "4  002f508f-67b6-479f-814b-b05f00d4e995             facebook_ads"
      ]
     },
     "metadata": {},
     "output_type": "display_data"
    },
    {
     "name": "stdout",
     "output_type": "stream",
     "text": [
      "\n",
      "Информация о датафрейме:\n",
      "\n",
      "<class 'pandas.core.frame.DataFrame'>\n",
      "RangeIndex: 13576 entries, 0 to 13575\n",
      "Data columns (total 2 columns):\n",
      " #   Column   Non-Null Count  Dtype \n",
      "---  ------   --------------  ----- \n",
      " 0   user_id  13576 non-null  object\n",
      " 1   source   13576 non-null  object\n",
      "dtypes: object(2)\n",
      "memory usage: 212.2+ KB\n",
      "\n",
      "Дублицаты в датафрейме:\n"
     ]
    },
    {
     "data": {
      "text/html": [
       "<div>\n",
       "<style scoped>\n",
       "    .dataframe tbody tr th:only-of-type {\n",
       "        vertical-align: middle;\n",
       "    }\n",
       "\n",
       "    .dataframe tbody tr th {\n",
       "        vertical-align: top;\n",
       "    }\n",
       "\n",
       "    .dataframe thead th {\n",
       "        text-align: right;\n",
       "    }\n",
       "</style>\n",
       "<table border=\"1\" class=\"dataframe\">\n",
       "  <thead>\n",
       "    <tr style=\"text-align: right;\">\n",
       "      <th></th>\n",
       "      <th>user_id</th>\n",
       "      <th>source</th>\n",
       "    </tr>\n",
       "  </thead>\n",
       "  <tbody>\n",
       "  </tbody>\n",
       "</table>\n",
       "</div>"
      ],
      "text/plain": [
       "Empty DataFrame\n",
       "Columns: [user_id, source]\n",
       "Index: []"
      ]
     },
     "metadata": {},
     "output_type": "display_data"
    }
   ],
   "source": [
    "user_source = description('user_source.csv')"
   ]
  },
  {
   "cell_type": "markdown",
   "id": "a61443c9",
   "metadata": {},
   "source": [
    "###### Таблица `user_source`\n",
    "\n",
    "Таблица содержит информацию об источнике с которого пришел пользователь, установивший приложение:\n",
    "- `user_id` — идентификатор пользователя;\n",
    "- `source` — наименование источника."
   ]
  },
  {
   "cell_type": "markdown",
   "id": "a9f98fd6",
   "metadata": {},
   "source": [
    "### Типы данных и дубликаты"
   ]
  },
  {
   "cell_type": "code",
   "execution_count": 6,
   "id": "71a0eab1",
   "metadata": {
    "scrolled": false
   },
   "outputs": [
    {
     "name": "stdout",
     "output_type": "stream",
     "text": [
      "<class 'pandas.core.frame.DataFrame'>\n",
      "RangeIndex: 28 entries, 0 to 27\n",
      "Data columns (total 3 columns):\n",
      " #   Column  Non-Null Count  Dtype         \n",
      "---  ------  --------------  -----         \n",
      " 0   source  28 non-null     object        \n",
      " 1   day     28 non-null     datetime64[ns]\n",
      " 2   cost    28 non-null     float64       \n",
      "dtypes: datetime64[ns](1), float64(1), object(1)\n",
      "memory usage: 800.0+ bytes\n",
      "\n",
      "<class 'pandas.core.frame.DataFrame'>\n",
      "Int64Index: 135639 entries, 0 to 135639\n",
      "Data columns (total 5 columns):\n",
      " #   Column          Non-Null Count   Dtype         \n",
      "---  ------          --------------   -----         \n",
      " 0   event_datetime  135639 non-null  datetime64[ns]\n",
      " 1   event           135639 non-null  object        \n",
      " 2   building_type   127956 non-null  object        \n",
      " 3   user_id         135639 non-null  object        \n",
      " 4   project_type    1866 non-null    object        \n",
      "dtypes: datetime64[ns](1), object(4)\n",
      "memory usage: 6.2+ MB\n"
     ]
    }
   ],
   "source": [
    "# приведем даты к типу datetime, а в ad_costs добавим еще 1 день\n",
    "game_actions.event_datetime = pd.to_datetime(game_actions.event_datetime)\n",
    "ad_costs.day = pd.to_datetime(ad_costs.day) + timedelta(days=1)\n",
    "\n",
    "# удалим дубликат из game_actions\n",
    "game_actions = game_actions.drop_duplicates()\n",
    "\n",
    "# проверим результат изменений\n",
    "ad_costs.info()\n",
    "print()\n",
    "game_actions.info()"
   ]
  },
  {
   "cell_type": "markdown",
   "id": "64357cc2",
   "metadata": {},
   "source": [
    "Данные приведены к нужным типам, а в `game_actions` нехватает одной строки, которая и была дубликатом."
   ]
  },
  {
   "cell_type": "markdown",
   "id": "77b1915d",
   "metadata": {},
   "source": [
    "### Пропуски в данных\n",
    "\n",
    "У нас есть пропуски в `game_actions` в колонках `building_type` и `project_type`. Вероятно это не пропуски, а `NaN` значат, что для этого наблюдения не может быть значения. Проверим это.\n",
    "\n",
    "Сначала рассмотрим `building_type`. Это поле значит тип постройки, которая была возведена, скорее всего все пропуски соответствуют не `building` значениям в `event`."
   ]
  },
  {
   "cell_type": "code",
   "execution_count": 7,
   "id": "9a6876a8",
   "metadata": {},
   "outputs": [
    {
     "name": "stdout",
     "output_type": "stream",
     "text": [
      "Значения в event, при пропуске в building_type ['finished_stage_1' 'project']\n",
      "Значения в event, без пропуска в building_type ['building']\n"
     ]
    }
   ],
   "source": [
    "na_inspector('building_type')"
   ]
  },
  {
   "cell_type": "markdown",
   "id": "89d241af",
   "metadata": {},
   "source": [
    "Все так, следовательно данные полны.\n",
    "\n",
    "Для `project_type` вероятна схожая ситуация - значения в поле соответствуют `project` в `event`"
   ]
  },
  {
   "cell_type": "code",
   "execution_count": 8,
   "id": "4761f80c",
   "metadata": {},
   "outputs": [
    {
     "name": "stdout",
     "output_type": "stream",
     "text": [
      "Значения в event, при пропуске в project_type ['building' 'finished_stage_1']\n",
      "Значения в event, без пропуска в project_type ['project']\n"
     ]
    }
   ],
   "source": [
    "na_inspector('project_type')"
   ]
  },
  {
   "cell_type": "markdown",
   "id": "e1418467",
   "metadata": {},
   "source": [
    "Аналогичная ситуация, но какие значения в этой колонке? Имеют ли они смысл?"
   ]
  },
  {
   "cell_type": "code",
   "execution_count": 9,
   "id": "88730d5a",
   "metadata": {},
   "outputs": [
    {
     "data": {
      "text/plain": [
       "array([nan, 'satellite_orbital_assembly'], dtype=object)"
      ]
     },
     "execution_count": 9,
     "metadata": {},
     "output_type": "execute_result"
    }
   ],
   "source": [
    "game_actions.project_type.unique()"
   ]
  },
  {
   "cell_type": "markdown",
   "id": "e987474c",
   "metadata": {},
   "source": [
    "Получается, на первом уровне при событии `project` в `project_type` есть лишь одно значение - `satellite_orbital_assembly`. На следующих уровнях, когда геймплей станет более разнообразным, это поле будет нести важную информацию, но в данном исследовании оно не нужно, поэтому просто удалим этот столбец."
   ]
  },
  {
   "cell_type": "code",
   "execution_count": 10,
   "id": "15492227",
   "metadata": {
    "scrolled": true
   },
   "outputs": [
    {
     "data": {
      "text/html": [
       "<div>\n",
       "<style scoped>\n",
       "    .dataframe tbody tr th:only-of-type {\n",
       "        vertical-align: middle;\n",
       "    }\n",
       "\n",
       "    .dataframe tbody tr th {\n",
       "        vertical-align: top;\n",
       "    }\n",
       "\n",
       "    .dataframe thead th {\n",
       "        text-align: right;\n",
       "    }\n",
       "</style>\n",
       "<table border=\"1\" class=\"dataframe\">\n",
       "  <thead>\n",
       "    <tr style=\"text-align: right;\">\n",
       "      <th></th>\n",
       "      <th>event_datetime</th>\n",
       "      <th>event</th>\n",
       "      <th>building_type</th>\n",
       "      <th>user_id</th>\n",
       "    </tr>\n",
       "  </thead>\n",
       "  <tbody>\n",
       "    <tr>\n",
       "      <th>0</th>\n",
       "      <td>2020-05-04 00:00:01</td>\n",
       "      <td>building</td>\n",
       "      <td>assembly_shop</td>\n",
       "      <td>55e92310-cb8e-4754-b622-597e124b03de</td>\n",
       "    </tr>\n",
       "    <tr>\n",
       "      <th>1</th>\n",
       "      <td>2020-05-04 00:00:03</td>\n",
       "      <td>building</td>\n",
       "      <td>assembly_shop</td>\n",
       "      <td>c07b1c10-f477-44dc-81dc-ec82254b1347</td>\n",
       "    </tr>\n",
       "    <tr>\n",
       "      <th>2</th>\n",
       "      <td>2020-05-04 00:00:16</td>\n",
       "      <td>building</td>\n",
       "      <td>assembly_shop</td>\n",
       "      <td>6edd42cc-e753-4ff6-a947-2107cd560710</td>\n",
       "    </tr>\n",
       "    <tr>\n",
       "      <th>3</th>\n",
       "      <td>2020-05-04 00:00:16</td>\n",
       "      <td>building</td>\n",
       "      <td>assembly_shop</td>\n",
       "      <td>92c69003-d60a-444a-827f-8cc51bf6bf4c</td>\n",
       "    </tr>\n",
       "    <tr>\n",
       "      <th>4</th>\n",
       "      <td>2020-05-04 00:00:35</td>\n",
       "      <td>building</td>\n",
       "      <td>assembly_shop</td>\n",
       "      <td>cdc6bb92-0ccb-4490-9866-ef142f09139d</td>\n",
       "    </tr>\n",
       "  </tbody>\n",
       "</table>\n",
       "</div>"
      ],
      "text/plain": [
       "       event_datetime     event  building_type  \\\n",
       "0 2020-05-04 00:00:01  building  assembly_shop   \n",
       "1 2020-05-04 00:00:03  building  assembly_shop   \n",
       "2 2020-05-04 00:00:16  building  assembly_shop   \n",
       "3 2020-05-04 00:00:16  building  assembly_shop   \n",
       "4 2020-05-04 00:00:35  building  assembly_shop   \n",
       "\n",
       "                                user_id  \n",
       "0  55e92310-cb8e-4754-b622-597e124b03de  \n",
       "1  c07b1c10-f477-44dc-81dc-ec82254b1347  \n",
       "2  6edd42cc-e753-4ff6-a947-2107cd560710  \n",
       "3  92c69003-d60a-444a-827f-8cc51bf6bf4c  \n",
       "4  cdc6bb92-0ccb-4490-9866-ef142f09139d  "
      ]
     },
     "execution_count": 10,
     "metadata": {},
     "output_type": "execute_result"
    }
   ],
   "source": [
    "game_actions = game_actions.drop(columns='project_type')\n",
    "game_actions.head()"
   ]
  },
  {
   "cell_type": "markdown",
   "id": "649ae531",
   "metadata": {},
   "source": [
    "### Производные таблицы и метрики\n",
    "\n",
    "#### Пользовательские профили\n",
    "\n",
    "Нам нужны пользовательские профили, где будет их id, число событий на пользователя, дата привлечения, источник и стоимость привлечения. Примем, что первое событию в наших логах происходило в первый день привлечения клиента, так мы получим дату привлечения. Источник привлечения получим из `user_source`."
   ]
  },
  {
   "cell_type": "code",
   "execution_count": 11,
   "id": "66700dec",
   "metadata": {},
   "outputs": [
    {
     "data": {
      "text/html": [
       "<div>\n",
       "<style scoped>\n",
       "    .dataframe tbody tr th:only-of-type {\n",
       "        vertical-align: middle;\n",
       "    }\n",
       "\n",
       "    .dataframe tbody tr th {\n",
       "        vertical-align: top;\n",
       "    }\n",
       "\n",
       "    .dataframe thead th {\n",
       "        text-align: right;\n",
       "    }\n",
       "</style>\n",
       "<table border=\"1\" class=\"dataframe\">\n",
       "  <thead>\n",
       "    <tr style=\"text-align: right;\">\n",
       "      <th></th>\n",
       "      <th>user_id</th>\n",
       "      <th>events</th>\n",
       "      <th>acquisition_date</th>\n",
       "      <th>source</th>\n",
       "    </tr>\n",
       "  </thead>\n",
       "  <tbody>\n",
       "    <tr>\n",
       "      <th>0</th>\n",
       "      <td>55e92310-cb8e-4754-b622-597e124b03de</td>\n",
       "      <td>7</td>\n",
       "      <td>2020-05-04</td>\n",
       "      <td>youtube_channel_reklama</td>\n",
       "    </tr>\n",
       "    <tr>\n",
       "      <th>1</th>\n",
       "      <td>c07b1c10-f477-44dc-81dc-ec82254b1347</td>\n",
       "      <td>13</td>\n",
       "      <td>2020-05-04</td>\n",
       "      <td>facebook_ads</td>\n",
       "    </tr>\n",
       "    <tr>\n",
       "      <th>2</th>\n",
       "      <td>92c69003-d60a-444a-827f-8cc51bf6bf4c</td>\n",
       "      <td>10</td>\n",
       "      <td>2020-05-04</td>\n",
       "      <td>facebook_ads</td>\n",
       "    </tr>\n",
       "    <tr>\n",
       "      <th>3</th>\n",
       "      <td>6edd42cc-e753-4ff6-a947-2107cd560710</td>\n",
       "      <td>13</td>\n",
       "      <td>2020-05-04</td>\n",
       "      <td>instagram_new_adverts</td>\n",
       "    </tr>\n",
       "    <tr>\n",
       "      <th>4</th>\n",
       "      <td>cdc6bb92-0ccb-4490-9866-ef142f09139d</td>\n",
       "      <td>7</td>\n",
       "      <td>2020-05-04</td>\n",
       "      <td>yandex_direct</td>\n",
       "    </tr>\n",
       "  </tbody>\n",
       "</table>\n",
       "</div>"
      ],
      "text/plain": [
       "                                user_id  events acquisition_date  \\\n",
       "0  55e92310-cb8e-4754-b622-597e124b03de       7       2020-05-04   \n",
       "1  c07b1c10-f477-44dc-81dc-ec82254b1347      13       2020-05-04   \n",
       "2  92c69003-d60a-444a-827f-8cc51bf6bf4c      10       2020-05-04   \n",
       "3  6edd42cc-e753-4ff6-a947-2107cd560710      13       2020-05-04   \n",
       "4  cdc6bb92-0ccb-4490-9866-ef142f09139d       7       2020-05-04   \n",
       "\n",
       "                    source  \n",
       "0  youtube_channel_reklama  \n",
       "1             facebook_ads  \n",
       "2             facebook_ads  \n",
       "3    instagram_new_adverts  \n",
       "4            yandex_direct  "
      ]
     },
     "execution_count": 11,
     "metadata": {},
     "output_type": "execute_result"
    }
   ],
   "source": [
    "# по времени первого события определяем дату привлечения пользователя\n",
    "profiles = game_actions.sort_values('event_datetime')\\\n",
    "                       .groupby('user_id', as_index=False).agg(events=('event', 'count'),\n",
    "                                                               acquisition_date=('event_datetime', 'first'))\\\n",
    "                       .sort_values('acquisition_date').reset_index(drop=True)\n",
    "\n",
    "# выделяем дату из времени первого события пользователя\n",
    "profiles.acquisition_date = pd.to_datetime(pd.to_datetime(profiles.acquisition_date).dt.date)\n",
    "\n",
    "# из user_source получаем источник привлечения\n",
    "profiles = profiles.merge(user_source, on='user_id')\n",
    "profiles.head()"
   ]
  },
  {
   "cell_type": "markdown",
   "id": "d3cb4b58",
   "metadata": {},
   "source": [
    "Осталось добавить стоимость привлечения. Для этого надо разделить стоимость рекламной компании на число пришедших пользователей."
   ]
  },
  {
   "cell_type": "code",
   "execution_count": 12,
   "id": "44f28d60",
   "metadata": {},
   "outputs": [
    {
     "data": {
      "text/html": [
       "<div>\n",
       "<style scoped>\n",
       "    .dataframe tbody tr th:only-of-type {\n",
       "        vertical-align: middle;\n",
       "    }\n",
       "\n",
       "    .dataframe tbody tr th {\n",
       "        vertical-align: top;\n",
       "    }\n",
       "\n",
       "    .dataframe thead th {\n",
       "        text-align: right;\n",
       "    }\n",
       "</style>\n",
       "<table border=\"1\" class=\"dataframe\">\n",
       "  <thead>\n",
       "    <tr style=\"text-align: right;\">\n",
       "      <th></th>\n",
       "      <th>source</th>\n",
       "      <th>cost</th>\n",
       "      <th>acquisition_date</th>\n",
       "      <th>users</th>\n",
       "      <th>cac</th>\n",
       "    </tr>\n",
       "  </thead>\n",
       "  <tbody>\n",
       "    <tr>\n",
       "      <th>0</th>\n",
       "      <td>facebook_ads</td>\n",
       "      <td>935.882786</td>\n",
       "      <td>2020-05-04</td>\n",
       "      <td>1184</td>\n",
       "      <td>0.790442</td>\n",
       "    </tr>\n",
       "    <tr>\n",
       "      <th>1</th>\n",
       "      <td>facebook_ads</td>\n",
       "      <td>548.354480</td>\n",
       "      <td>2020-05-05</td>\n",
       "      <td>694</td>\n",
       "      <td>0.790136</td>\n",
       "    </tr>\n",
       "    <tr>\n",
       "      <th>2</th>\n",
       "      <td>facebook_ads</td>\n",
       "      <td>260.185754</td>\n",
       "      <td>2020-05-06</td>\n",
       "      <td>345</td>\n",
       "      <td>0.754162</td>\n",
       "    </tr>\n",
       "    <tr>\n",
       "      <th>3</th>\n",
       "      <td>facebook_ads</td>\n",
       "      <td>177.982200</td>\n",
       "      <td>2020-05-07</td>\n",
       "      <td>224</td>\n",
       "      <td>0.794563</td>\n",
       "    </tr>\n",
       "    <tr>\n",
       "      <th>4</th>\n",
       "      <td>facebook_ads</td>\n",
       "      <td>111.766796</td>\n",
       "      <td>2020-05-08</td>\n",
       "      <td>139</td>\n",
       "      <td>0.804078</td>\n",
       "    </tr>\n",
       "    <tr>\n",
       "      <th>5</th>\n",
       "      <td>facebook_ads</td>\n",
       "      <td>68.009276</td>\n",
       "      <td>2020-05-09</td>\n",
       "      <td>84</td>\n",
       "      <td>0.809634</td>\n",
       "    </tr>\n",
       "    <tr>\n",
       "      <th>6</th>\n",
       "      <td>facebook_ads</td>\n",
       "      <td>38.723350</td>\n",
       "      <td>2020-05-10</td>\n",
       "      <td>56</td>\n",
       "      <td>0.691488</td>\n",
       "    </tr>\n",
       "    <tr>\n",
       "      <th>7</th>\n",
       "      <td>instagram_new_adverts</td>\n",
       "      <td>943.204717</td>\n",
       "      <td>2020-05-04</td>\n",
       "      <td>1452</td>\n",
       "      <td>0.649590</td>\n",
       "    </tr>\n",
       "    <tr>\n",
       "      <th>8</th>\n",
       "      <td>instagram_new_adverts</td>\n",
       "      <td>502.925451</td>\n",
       "      <td>2020-05-05</td>\n",
       "      <td>796</td>\n",
       "      <td>0.631816</td>\n",
       "    </tr>\n",
       "    <tr>\n",
       "      <th>9</th>\n",
       "      <td>instagram_new_adverts</td>\n",
       "      <td>313.970984</td>\n",
       "      <td>2020-05-06</td>\n",
       "      <td>472</td>\n",
       "      <td>0.665193</td>\n",
       "    </tr>\n",
       "    <tr>\n",
       "      <th>10</th>\n",
       "      <td>instagram_new_adverts</td>\n",
       "      <td>173.071145</td>\n",
       "      <td>2020-05-07</td>\n",
       "      <td>270</td>\n",
       "      <td>0.641004</td>\n",
       "    </tr>\n",
       "    <tr>\n",
       "      <th>11</th>\n",
       "      <td>instagram_new_adverts</td>\n",
       "      <td>109.915254</td>\n",
       "      <td>2020-05-08</td>\n",
       "      <td>175</td>\n",
       "      <td>0.628087</td>\n",
       "    </tr>\n",
       "    <tr>\n",
       "      <th>12</th>\n",
       "      <td>instagram_new_adverts</td>\n",
       "      <td>71.578739</td>\n",
       "      <td>2020-05-09</td>\n",
       "      <td>112</td>\n",
       "      <td>0.639096</td>\n",
       "    </tr>\n",
       "    <tr>\n",
       "      <th>13</th>\n",
       "      <td>instagram_new_adverts</td>\n",
       "      <td>46.775400</td>\n",
       "      <td>2020-05-10</td>\n",
       "      <td>70</td>\n",
       "      <td>0.668220</td>\n",
       "    </tr>\n",
       "    <tr>\n",
       "      <th>14</th>\n",
       "      <td>yandex_direct</td>\n",
       "      <td>969.139394</td>\n",
       "      <td>2020-05-04</td>\n",
       "      <td>2078</td>\n",
       "      <td>0.466381</td>\n",
       "    </tr>\n",
       "    <tr>\n",
       "      <th>15</th>\n",
       "      <td>yandex_direct</td>\n",
       "      <td>554.651494</td>\n",
       "      <td>2020-05-05</td>\n",
       "      <td>1208</td>\n",
       "      <td>0.459149</td>\n",
       "    </tr>\n",
       "    <tr>\n",
       "      <th>16</th>\n",
       "      <td>yandex_direct</td>\n",
       "      <td>308.232990</td>\n",
       "      <td>2020-05-06</td>\n",
       "      <td>664</td>\n",
       "      <td>0.464206</td>\n",
       "    </tr>\n",
       "    <tr>\n",
       "      <th>17</th>\n",
       "      <td>yandex_direct</td>\n",
       "      <td>180.917099</td>\n",
       "      <td>2020-05-07</td>\n",
       "      <td>395</td>\n",
       "      <td>0.458018</td>\n",
       "    </tr>\n",
       "    <tr>\n",
       "      <th>18</th>\n",
       "      <td>yandex_direct</td>\n",
       "      <td>114.429338</td>\n",
       "      <td>2020-05-08</td>\n",
       "      <td>239</td>\n",
       "      <td>0.478784</td>\n",
       "    </tr>\n",
       "    <tr>\n",
       "      <th>19</th>\n",
       "      <td>yandex_direct</td>\n",
       "      <td>62.961630</td>\n",
       "      <td>2020-05-09</td>\n",
       "      <td>144</td>\n",
       "      <td>0.437234</td>\n",
       "    </tr>\n",
       "    <tr>\n",
       "      <th>20</th>\n",
       "      <td>yandex_direct</td>\n",
       "      <td>42.779505</td>\n",
       "      <td>2020-05-10</td>\n",
       "      <td>89</td>\n",
       "      <td>0.480669</td>\n",
       "    </tr>\n",
       "    <tr>\n",
       "      <th>21</th>\n",
       "      <td>youtube_channel_reklama</td>\n",
       "      <td>454.224943</td>\n",
       "      <td>2020-05-04</td>\n",
       "      <td>1146</td>\n",
       "      <td>0.396357</td>\n",
       "    </tr>\n",
       "    <tr>\n",
       "      <th>22</th>\n",
       "      <td>youtube_channel_reklama</td>\n",
       "      <td>259.073224</td>\n",
       "      <td>2020-05-05</td>\n",
       "      <td>663</td>\n",
       "      <td>0.390759</td>\n",
       "    </tr>\n",
       "    <tr>\n",
       "      <th>23</th>\n",
       "      <td>youtube_channel_reklama</td>\n",
       "      <td>147.041741</td>\n",
       "      <td>2020-05-06</td>\n",
       "      <td>366</td>\n",
       "      <td>0.401753</td>\n",
       "    </tr>\n",
       "    <tr>\n",
       "      <th>24</th>\n",
       "      <td>youtube_channel_reklama</td>\n",
       "      <td>88.506074</td>\n",
       "      <td>2020-05-07</td>\n",
       "      <td>220</td>\n",
       "      <td>0.402300</td>\n",
       "    </tr>\n",
       "    <tr>\n",
       "      <th>25</th>\n",
       "      <td>youtube_channel_reklama</td>\n",
       "      <td>55.740645</td>\n",
       "      <td>2020-05-08</td>\n",
       "      <td>135</td>\n",
       "      <td>0.412894</td>\n",
       "    </tr>\n",
       "    <tr>\n",
       "      <th>26</th>\n",
       "      <td>youtube_channel_reklama</td>\n",
       "      <td>40.217907</td>\n",
       "      <td>2020-05-09</td>\n",
       "      <td>100</td>\n",
       "      <td>0.402179</td>\n",
       "    </tr>\n",
       "    <tr>\n",
       "      <th>27</th>\n",
       "      <td>youtube_channel_reklama</td>\n",
       "      <td>23.314669</td>\n",
       "      <td>2020-05-10</td>\n",
       "      <td>56</td>\n",
       "      <td>0.416333</td>\n",
       "    </tr>\n",
       "  </tbody>\n",
       "</table>\n",
       "</div>"
      ],
      "text/plain": [
       "                     source        cost acquisition_date  users       cac\n",
       "0              facebook_ads  935.882786       2020-05-04   1184  0.790442\n",
       "1              facebook_ads  548.354480       2020-05-05    694  0.790136\n",
       "2              facebook_ads  260.185754       2020-05-06    345  0.754162\n",
       "3              facebook_ads  177.982200       2020-05-07    224  0.794563\n",
       "4              facebook_ads  111.766796       2020-05-08    139  0.804078\n",
       "5              facebook_ads   68.009276       2020-05-09     84  0.809634\n",
       "6              facebook_ads   38.723350       2020-05-10     56  0.691488\n",
       "7     instagram_new_adverts  943.204717       2020-05-04   1452  0.649590\n",
       "8     instagram_new_adverts  502.925451       2020-05-05    796  0.631816\n",
       "9     instagram_new_adverts  313.970984       2020-05-06    472  0.665193\n",
       "10    instagram_new_adverts  173.071145       2020-05-07    270  0.641004\n",
       "11    instagram_new_adverts  109.915254       2020-05-08    175  0.628087\n",
       "12    instagram_new_adverts   71.578739       2020-05-09    112  0.639096\n",
       "13    instagram_new_adverts   46.775400       2020-05-10     70  0.668220\n",
       "14            yandex_direct  969.139394       2020-05-04   2078  0.466381\n",
       "15            yandex_direct  554.651494       2020-05-05   1208  0.459149\n",
       "16            yandex_direct  308.232990       2020-05-06    664  0.464206\n",
       "17            yandex_direct  180.917099       2020-05-07    395  0.458018\n",
       "18            yandex_direct  114.429338       2020-05-08    239  0.478784\n",
       "19            yandex_direct   62.961630       2020-05-09    144  0.437234\n",
       "20            yandex_direct   42.779505       2020-05-10     89  0.480669\n",
       "21  youtube_channel_reklama  454.224943       2020-05-04   1146  0.396357\n",
       "22  youtube_channel_reklama  259.073224       2020-05-05    663  0.390759\n",
       "23  youtube_channel_reklama  147.041741       2020-05-06    366  0.401753\n",
       "24  youtube_channel_reklama   88.506074       2020-05-07    220  0.402300\n",
       "25  youtube_channel_reklama   55.740645       2020-05-08    135  0.412894\n",
       "26  youtube_channel_reklama   40.217907       2020-05-09    100  0.402179\n",
       "27  youtube_channel_reklama   23.314669       2020-05-10     56  0.416333"
      ]
     },
     "execution_count": 12,
     "metadata": {},
     "output_type": "execute_result"
    }
   ],
   "source": [
    "# объединим таблицу с ценами с числом привлеченных пользователей\n",
    "cac = ad_costs.merge(\n",
    "    # число привлеченных пользователей в день по источникам\n",
    "    profiles.groupby(['source', 'acquisition_date'], as_index=False).agg(users=('user_id', 'count')),\n",
    "    left_on=['source', 'day'], right_on=['source', 'acquisition_date']\n",
    ")\n",
    "cac = cac.drop(columns='day')\n",
    "\n",
    "# разделим стоимость компаний на число пользователей и получим CAC\n",
    "cac['cac'] = cac.cost / cac.users\n",
    "\n",
    "cac"
   ]
  },
  {
   "cell_type": "markdown",
   "id": "53c0a95f",
   "metadata": {},
   "source": [
    "*В таком представлении данные о компаниях выглядят немного иначе. При равных бюджетах с Фейсбуком Директ дает практически в 2 раза больший приток клиентов. На том же уровне по приятности цен находятся каналы Ютуба. Все источники у нас довольно стабильны по стоимости привлечения, хотя мало что могло поменяться на горизонте в 10 дней.*\n",
    "\n",
    "Объединим данные двух таблиц."
   ]
  },
  {
   "cell_type": "code",
   "execution_count": 13,
   "id": "7a80fa25",
   "metadata": {},
   "outputs": [
    {
     "data": {
      "text/html": [
       "<div>\n",
       "<style scoped>\n",
       "    .dataframe tbody tr th:only-of-type {\n",
       "        vertical-align: middle;\n",
       "    }\n",
       "\n",
       "    .dataframe tbody tr th {\n",
       "        vertical-align: top;\n",
       "    }\n",
       "\n",
       "    .dataframe thead th {\n",
       "        text-align: right;\n",
       "    }\n",
       "</style>\n",
       "<table border=\"1\" class=\"dataframe\">\n",
       "  <thead>\n",
       "    <tr style=\"text-align: right;\">\n",
       "      <th></th>\n",
       "      <th>user_id</th>\n",
       "      <th>events</th>\n",
       "      <th>acquisition_date</th>\n",
       "      <th>source</th>\n",
       "      <th>cac</th>\n",
       "    </tr>\n",
       "  </thead>\n",
       "  <tbody>\n",
       "    <tr>\n",
       "      <th>0</th>\n",
       "      <td>55e92310-cb8e-4754-b622-597e124b03de</td>\n",
       "      <td>7</td>\n",
       "      <td>2020-05-04</td>\n",
       "      <td>youtube_channel_reklama</td>\n",
       "      <td>0.396357</td>\n",
       "    </tr>\n",
       "    <tr>\n",
       "      <th>1</th>\n",
       "      <td>fa352362-d258-472c-b295-2796ccc39fa3</td>\n",
       "      <td>14</td>\n",
       "      <td>2020-05-04</td>\n",
       "      <td>youtube_channel_reklama</td>\n",
       "      <td>0.396357</td>\n",
       "    </tr>\n",
       "    <tr>\n",
       "      <th>2</th>\n",
       "      <td>7e7d2d26-156e-4fd6-aebf-4df91181c9a4</td>\n",
       "      <td>9</td>\n",
       "      <td>2020-05-04</td>\n",
       "      <td>youtube_channel_reklama</td>\n",
       "      <td>0.396357</td>\n",
       "    </tr>\n",
       "    <tr>\n",
       "      <th>3</th>\n",
       "      <td>5c061bf9-92bb-4ec5-b01a-e648dc10a9c1</td>\n",
       "      <td>6</td>\n",
       "      <td>2020-05-04</td>\n",
       "      <td>youtube_channel_reklama</td>\n",
       "      <td>0.396357</td>\n",
       "    </tr>\n",
       "    <tr>\n",
       "      <th>4</th>\n",
       "      <td>3408cb40-45d7-4bd8-97d8-96fe0673496c</td>\n",
       "      <td>7</td>\n",
       "      <td>2020-05-04</td>\n",
       "      <td>youtube_channel_reklama</td>\n",
       "      <td>0.396357</td>\n",
       "    </tr>\n",
       "  </tbody>\n",
       "</table>\n",
       "</div>"
      ],
      "text/plain": [
       "                                user_id  events acquisition_date  \\\n",
       "0  55e92310-cb8e-4754-b622-597e124b03de       7       2020-05-04   \n",
       "1  fa352362-d258-472c-b295-2796ccc39fa3      14       2020-05-04   \n",
       "2  7e7d2d26-156e-4fd6-aebf-4df91181c9a4       9       2020-05-04   \n",
       "3  5c061bf9-92bb-4ec5-b01a-e648dc10a9c1       6       2020-05-04   \n",
       "4  3408cb40-45d7-4bd8-97d8-96fe0673496c       7       2020-05-04   \n",
       "\n",
       "                    source       cac  \n",
       "0  youtube_channel_reklama  0.396357  \n",
       "1  youtube_channel_reklama  0.396357  \n",
       "2  youtube_channel_reklama  0.396357  \n",
       "3  youtube_channel_reklama  0.396357  \n",
       "4  youtube_channel_reklama  0.396357  "
      ]
     },
     "execution_count": 13,
     "metadata": {},
     "output_type": "execute_result"
    }
   ],
   "source": [
    "profiles = profiles.merge(\n",
    "    cac[['acquisition_date', 'source', 'cac']],\n",
    "    on=['acquisition_date', 'source']\n",
    ")\n",
    "profiles.head()"
   ]
  },
  {
   "cell_type": "markdown",
   "id": "ed32020f",
   "metadata": {},
   "source": [
    "#### Дата привлечения и лайфтайм в логах\n",
    "\n",
    "Чтобы разделять когорты пользователей, необходима дата привлечения, ее можно взять из логов. Для определения динамики пользовательского поведения нужен лайфтайм, его можно получить как разницу в днях между датой события и датой привлечения."
   ]
  },
  {
   "cell_type": "code",
   "execution_count": 14,
   "id": "5e772d2c",
   "metadata": {},
   "outputs": [
    {
     "data": {
      "text/html": [
       "<div>\n",
       "<style scoped>\n",
       "    .dataframe tbody tr th:only-of-type {\n",
       "        vertical-align: middle;\n",
       "    }\n",
       "\n",
       "    .dataframe tbody tr th {\n",
       "        vertical-align: top;\n",
       "    }\n",
       "\n",
       "    .dataframe thead th {\n",
       "        text-align: right;\n",
       "    }\n",
       "</style>\n",
       "<table border=\"1\" class=\"dataframe\">\n",
       "  <thead>\n",
       "    <tr style=\"text-align: right;\">\n",
       "      <th></th>\n",
       "      <th>event_datetime</th>\n",
       "      <th>event</th>\n",
       "      <th>building_type</th>\n",
       "      <th>user_id</th>\n",
       "      <th>acquisition_date</th>\n",
       "      <th>lifetime</th>\n",
       "    </tr>\n",
       "  </thead>\n",
       "  <tbody>\n",
       "    <tr>\n",
       "      <th>0</th>\n",
       "      <td>2020-05-04 00:00:01</td>\n",
       "      <td>building</td>\n",
       "      <td>assembly_shop</td>\n",
       "      <td>55e92310-cb8e-4754-b622-597e124b03de</td>\n",
       "      <td>2020-05-04</td>\n",
       "      <td>1</td>\n",
       "    </tr>\n",
       "    <tr>\n",
       "      <th>1</th>\n",
       "      <td>2020-05-05 05:20:15</td>\n",
       "      <td>building</td>\n",
       "      <td>assembly_shop</td>\n",
       "      <td>55e92310-cb8e-4754-b622-597e124b03de</td>\n",
       "      <td>2020-05-04</td>\n",
       "      <td>2</td>\n",
       "    </tr>\n",
       "    <tr>\n",
       "      <th>2</th>\n",
       "      <td>2020-05-05 19:24:02</td>\n",
       "      <td>building</td>\n",
       "      <td>assembly_shop</td>\n",
       "      <td>55e92310-cb8e-4754-b622-597e124b03de</td>\n",
       "      <td>2020-05-04</td>\n",
       "      <td>2</td>\n",
       "    </tr>\n",
       "    <tr>\n",
       "      <th>3</th>\n",
       "      <td>2020-05-05 20:59:19</td>\n",
       "      <td>building</td>\n",
       "      <td>assembly_shop</td>\n",
       "      <td>55e92310-cb8e-4754-b622-597e124b03de</td>\n",
       "      <td>2020-05-04</td>\n",
       "      <td>2</td>\n",
       "    </tr>\n",
       "    <tr>\n",
       "      <th>4</th>\n",
       "      <td>2020-05-06 00:52:56</td>\n",
       "      <td>building</td>\n",
       "      <td>assembly_shop</td>\n",
       "      <td>55e92310-cb8e-4754-b622-597e124b03de</td>\n",
       "      <td>2020-05-04</td>\n",
       "      <td>3</td>\n",
       "    </tr>\n",
       "    <tr>\n",
       "      <th>5</th>\n",
       "      <td>2020-05-08 08:16:51</td>\n",
       "      <td>building</td>\n",
       "      <td>assembly_shop</td>\n",
       "      <td>55e92310-cb8e-4754-b622-597e124b03de</td>\n",
       "      <td>2020-05-04</td>\n",
       "      <td>5</td>\n",
       "    </tr>\n",
       "    <tr>\n",
       "      <th>6</th>\n",
       "      <td>2020-05-10 20:27:01</td>\n",
       "      <td>building</td>\n",
       "      <td>assembly_shop</td>\n",
       "      <td>55e92310-cb8e-4754-b622-597e124b03de</td>\n",
       "      <td>2020-05-04</td>\n",
       "      <td>7</td>\n",
       "    </tr>\n",
       "    <tr>\n",
       "      <th>7</th>\n",
       "      <td>2020-05-04 00:00:03</td>\n",
       "      <td>building</td>\n",
       "      <td>assembly_shop</td>\n",
       "      <td>c07b1c10-f477-44dc-81dc-ec82254b1347</td>\n",
       "      <td>2020-05-04</td>\n",
       "      <td>1</td>\n",
       "    </tr>\n",
       "    <tr>\n",
       "      <th>8</th>\n",
       "      <td>2020-05-06 23:49:25</td>\n",
       "      <td>building</td>\n",
       "      <td>assembly_shop</td>\n",
       "      <td>c07b1c10-f477-44dc-81dc-ec82254b1347</td>\n",
       "      <td>2020-05-04</td>\n",
       "      <td>3</td>\n",
       "    </tr>\n",
       "    <tr>\n",
       "      <th>9</th>\n",
       "      <td>2020-05-07 03:56:30</td>\n",
       "      <td>building</td>\n",
       "      <td>spaceport</td>\n",
       "      <td>c07b1c10-f477-44dc-81dc-ec82254b1347</td>\n",
       "      <td>2020-05-04</td>\n",
       "      <td>4</td>\n",
       "    </tr>\n",
       "  </tbody>\n",
       "</table>\n",
       "</div>"
      ],
      "text/plain": [
       "       event_datetime     event  building_type  \\\n",
       "0 2020-05-04 00:00:01  building  assembly_shop   \n",
       "1 2020-05-05 05:20:15  building  assembly_shop   \n",
       "2 2020-05-05 19:24:02  building  assembly_shop   \n",
       "3 2020-05-05 20:59:19  building  assembly_shop   \n",
       "4 2020-05-06 00:52:56  building  assembly_shop   \n",
       "5 2020-05-08 08:16:51  building  assembly_shop   \n",
       "6 2020-05-10 20:27:01  building  assembly_shop   \n",
       "7 2020-05-04 00:00:03  building  assembly_shop   \n",
       "8 2020-05-06 23:49:25  building  assembly_shop   \n",
       "9 2020-05-07 03:56:30  building      spaceport   \n",
       "\n",
       "                                user_id acquisition_date  lifetime  \n",
       "0  55e92310-cb8e-4754-b622-597e124b03de       2020-05-04         1  \n",
       "1  55e92310-cb8e-4754-b622-597e124b03de       2020-05-04         2  \n",
       "2  55e92310-cb8e-4754-b622-597e124b03de       2020-05-04         2  \n",
       "3  55e92310-cb8e-4754-b622-597e124b03de       2020-05-04         2  \n",
       "4  55e92310-cb8e-4754-b622-597e124b03de       2020-05-04         3  \n",
       "5  55e92310-cb8e-4754-b622-597e124b03de       2020-05-04         5  \n",
       "6  55e92310-cb8e-4754-b622-597e124b03de       2020-05-04         7  \n",
       "7  c07b1c10-f477-44dc-81dc-ec82254b1347       2020-05-04         1  \n",
       "8  c07b1c10-f477-44dc-81dc-ec82254b1347       2020-05-04         3  \n",
       "9  c07b1c10-f477-44dc-81dc-ec82254b1347       2020-05-04         4  "
      ]
     },
     "execution_count": 14,
     "metadata": {},
     "output_type": "execute_result"
    }
   ],
   "source": [
    "# дата привлечения\n",
    "game_actions = game_actions.merge(profiles[['user_id', 'acquisition_date']], on='user_id')\n",
    "\n",
    "# лайфтайм\n",
    "game_actions['lifetime'] = abs((game_actions.acquisition_date - game_actions.event_datetime).dt.days)\n",
    "game_actions.head(10)"
   ]
  },
  {
   "cell_type": "markdown",
   "id": "6034d207",
   "metadata": {},
   "source": [
    "### Предобработка. Выводы\n",
    "\n",
    "- Данные подготовлены к предобработке - приведены к нужным типам, обработаны пропуски и дубликаты;\n",
    "- Сформированы пользовательские профили;\n",
    "- К логам добавлен лайфтайм и дата привлечения пользователя."
   ]
  },
  {
   "cell_type": "markdown",
   "id": "ee4676f8",
   "metadata": {},
   "source": [
    "## Исследовательский анализ данных\n",
    "\n",
    "### Период данных и продолжительность пользовательского пути\n",
    "\n",
    "Определим за какой переод представлены наблюдения в данных, и рассмотрим распределение событий по времени и по лайфтайму."
   ]
  },
  {
   "cell_type": "code",
   "execution_count": 15,
   "id": "ecd739a6",
   "metadata": {
    "scrolled": false
   },
   "outputs": [
    {
     "name": "stdout",
     "output_type": "stream",
     "text": [
      "Данные представлены за период: 2020-05-04 00:00:01 - 2020-06-05 12:32:49\n",
      "Данные о пользователях привлеченных в период: 2020-05-04 00:00:00 - 2020-05-10 00:00:00\n"
     ]
    },
    {
     "data": {
      "image/png": "[encoded data removed]",
      "text/plain": [
       "<Figure size 936x432 with 1 Axes>"
      ]
     },
     "metadata": {},
     "output_type": "display_data"
    },
    {
     "data": {
      "image/png": "[encoded data removed]",
      "text/plain": [
       "<Figure size 936x432 with 1 Axes>"
      ]
     },
     "metadata": {},
     "output_type": "display_data"
    }
   ],
   "source": [
    "print(f'Данные представлены за период: {game_actions.event_datetime.min()} - {game_actions.event_datetime.max()}')\n",
    "print(f'Данные о пользователях привлеченных в период: {game_actions.acquisition_date.min()} - {game_actions.acquisition_date.max()}')\n",
    "\n",
    "game_actions.event_datetime.hist(bins=194)\n",
    "plt.xticks(ticks=game_actions.event_datetime.dt.date.unique(), rotation=60)\n",
    "plt.title('Гистограмма числа событий по времени')\n",
    "plt.ylabel('Число событий')\n",
    "plt.show()\n",
    "\n",
    "game_actions.lifetime.hist(bins=32)\n",
    "plt.title('Гистограмма числа событий по лайфтайму')\n",
    "plt.xlabel('Лайфтайм')\n",
    "plt.ylabel('Число событий')\n",
    "plt.show()"
   ]
  },
  {
   "cell_type": "markdown",
   "id": "633e21df",
   "metadata": {},
   "source": [
    "- У нас есть данные за период с 4 Апреля по 5 Мая с данными о пользователях привлеченных в период с 4 по 10 апреля. После 10 Апреля число событий резко падает в связи с окончанием рекламных компаний, а потом начинает плавно снижаться - некоторые клиенты попадают в отток, а некоторые завершают первый уровень и переходят на второй. \n",
    "\n",
    "\n",
    "- С одной стороны нам представлены событийные логи и мы не можем однозначно говорить действительно ли клиент попал в отток, или занят сражением палкой с крапивой на краю карты, с другой - судя по активности игроков, тот период наблюдений, что у нас есть, дает достаточно времени, чтобы игроки либо перешли на новый уровень, либо попали в отток. Поэтому тех, кто не закончил 1 уровень будем считать попавшими в отток.\n",
    "\n",
    "\n",
    "- По лайфтайму заметно, что после первого дня многие игроки забрасывают игру, но потом либо возвращаются, либо играют интенсивнее и на 5-й день втягиваются окончательно. Далее идет спад активности, что может говорить либо об оттоке, либо о завершении уровня.\n",
    "\n",
    "Добавим информацию о том как игрок завершил 1 уровень:\n",
    "- `constructive` - реализация проекта;\n",
    "- `aggressive` - победа над врагом;\n",
    "- `churn` - отток;"
   ]
  },
  {
   "cell_type": "code",
   "execution_count": 16,
   "id": "b0c1e73c",
   "metadata": {},
   "outputs": [
    {
     "data": {
      "text/html": [
       "<div>\n",
       "<style scoped>\n",
       "    .dataframe tbody tr th:only-of-type {\n",
       "        vertical-align: middle;\n",
       "    }\n",
       "\n",
       "    .dataframe tbody tr th {\n",
       "        vertical-align: top;\n",
       "    }\n",
       "\n",
       "    .dataframe thead th {\n",
       "        text-align: right;\n",
       "    }\n",
       "</style>\n",
       "<table border=\"1\" class=\"dataframe\">\n",
       "  <thead>\n",
       "    <tr style=\"text-align: right;\">\n",
       "      <th></th>\n",
       "      <th>event_datetime</th>\n",
       "      <th>event</th>\n",
       "      <th>building_type</th>\n",
       "      <th>user_id</th>\n",
       "      <th>acquisition_date</th>\n",
       "      <th>lifetime</th>\n",
       "      <th>ending</th>\n",
       "    </tr>\n",
       "  </thead>\n",
       "  <tbody>\n",
       "    <tr>\n",
       "      <th>0</th>\n",
       "      <td>2020-05-04 00:00:01</td>\n",
       "      <td>building</td>\n",
       "      <td>assembly_shop</td>\n",
       "      <td>55e92310-cb8e-4754-b622-597e124b03de</td>\n",
       "      <td>2020-05-04</td>\n",
       "      <td>1</td>\n",
       "      <td>churn</td>\n",
       "    </tr>\n",
       "    <tr>\n",
       "      <th>1</th>\n",
       "      <td>2020-05-05 05:20:15</td>\n",
       "      <td>building</td>\n",
       "      <td>assembly_shop</td>\n",
       "      <td>55e92310-cb8e-4754-b622-597e124b03de</td>\n",
       "      <td>2020-05-04</td>\n",
       "      <td>2</td>\n",
       "      <td>churn</td>\n",
       "    </tr>\n",
       "    <tr>\n",
       "      <th>2</th>\n",
       "      <td>2020-05-05 19:24:02</td>\n",
       "      <td>building</td>\n",
       "      <td>assembly_shop</td>\n",
       "      <td>55e92310-cb8e-4754-b622-597e124b03de</td>\n",
       "      <td>2020-05-04</td>\n",
       "      <td>2</td>\n",
       "      <td>churn</td>\n",
       "    </tr>\n",
       "    <tr>\n",
       "      <th>3</th>\n",
       "      <td>2020-05-05 20:59:19</td>\n",
       "      <td>building</td>\n",
       "      <td>assembly_shop</td>\n",
       "      <td>55e92310-cb8e-4754-b622-597e124b03de</td>\n",
       "      <td>2020-05-04</td>\n",
       "      <td>2</td>\n",
       "      <td>churn</td>\n",
       "    </tr>\n",
       "    <tr>\n",
       "      <th>4</th>\n",
       "      <td>2020-05-06 00:52:56</td>\n",
       "      <td>building</td>\n",
       "      <td>assembly_shop</td>\n",
       "      <td>55e92310-cb8e-4754-b622-597e124b03de</td>\n",
       "      <td>2020-05-04</td>\n",
       "      <td>3</td>\n",
       "      <td>churn</td>\n",
       "    </tr>\n",
       "  </tbody>\n",
       "</table>\n",
       "</div>"
      ],
      "text/plain": [
       "       event_datetime     event  building_type  \\\n",
       "0 2020-05-04 00:00:01  building  assembly_shop   \n",
       "1 2020-05-05 05:20:15  building  assembly_shop   \n",
       "2 2020-05-05 19:24:02  building  assembly_shop   \n",
       "3 2020-05-05 20:59:19  building  assembly_shop   \n",
       "4 2020-05-06 00:52:56  building  assembly_shop   \n",
       "\n",
       "                                user_id acquisition_date  lifetime ending  \n",
       "0  55e92310-cb8e-4754-b622-597e124b03de       2020-05-04         1  churn  \n",
       "1  55e92310-cb8e-4754-b622-597e124b03de       2020-05-04         2  churn  \n",
       "2  55e92310-cb8e-4754-b622-597e124b03de       2020-05-04         2  churn  \n",
       "3  55e92310-cb8e-4754-b622-597e124b03de       2020-05-04         2  churn  \n",
       "4  55e92310-cb8e-4754-b622-597e124b03de       2020-05-04         3  churn  "
      ]
     },
     "execution_count": 16,
     "metadata": {},
     "output_type": "execute_result"
    }
   ],
   "source": [
    "# составляем списки id тех, у кого был проект и кто закончил уровень\n",
    "con_users = game_actions.loc[game_actions.event == 'project', 'user_id']\n",
    "ending_users = game_actions.loc[game_actions.event == 'finished_stage_1', 'user_id']\n",
    "\n",
    "# те, кто закончил уровень с проектом, попадают в список продуктивных игроков,\n",
    "# а те, кто без - в список агрессивных\n",
    "con_users = game_actions.loc[\n",
    "    game_actions.user_id.isin(con_users) &\n",
    "    game_actions.user_id.isin(ending_users),\n",
    "    'user_id'].unique()\n",
    "agr_users = game_actions.loc[\n",
    "    ~game_actions.user_id.isin(con_users) &\n",
    "    game_actions.user_id.isin(ending_users),\n",
    "    'user_id'].unique()\n",
    "\n",
    "# добавим эту информацию в профили и в логи\n",
    "profiles['ending'] = profiles.user_id.map(\n",
    "    lambda x: 'constructive' if x in con_users else 'aggressive' if x in agr_users else 'churn'\n",
    ")\n",
    "game_actions = game_actions.merge(profiles[['user_id', 'ending']], on='user_id')\n",
    "\n",
    "game_actions.head()"
   ]
  },
  {
   "cell_type": "markdown",
   "id": "f7b26614",
   "metadata": {},
   "source": [
    "Проверим сколько времени уходит у игроков на прохождение первого уровня"
   ]
  },
  {
   "cell_type": "code",
   "execution_count": 17,
   "id": "fb20dff2",
   "metadata": {},
   "outputs": [
    {
     "data": {
      "image/png": "[encoded data removed]",
      "text/plain": [
       "<Figure size 936x432 with 1 Axes>"
      ]
     },
     "metadata": {},
     "output_type": "display_data"
    }
   ],
   "source": [
    "game_actions[game_actions.ending != 'churn'].groupby('user_id', as_index=False).lifetime.max().hist(bins=30)\n",
    "plt.title('Распределение продолжительности прохождения первого уровня')\n",
    "plt.xlabel('Число дней')\n",
    "plt.ylabel('Число игроков')\n",
    "plt.show()"
   ]
  },
  {
   "cell_type": "code",
   "execution_count": 18,
   "id": "7c41d6c7",
   "metadata": {
    "scrolled": true
   },
   "outputs": [
    {
     "data": {
      "text/plain": [
       "lifetime    12.808492\n",
       "dtype: float64"
      ]
     },
     "execution_count": 18,
     "metadata": {},
     "output_type": "execute_result"
    }
   ],
   "source": [
    "game_actions[game_actions.ending != 'churn'].groupby('user_id', as_index=False).lifetime.max().mean()"
   ]
  },
  {
   "cell_type": "markdown",
   "id": "cd491939",
   "metadata": {},
   "source": [
    "- Игроки проходят первый уровень в среднем от 6 до 20 дней;\n",
    "- Средняя продолжительность прохождения первого уровня 13 дней.\n",
    "\n",
    "Сколько дней находятся в игре те, кто попадает в отток?"
   ]
  },
  {
   "cell_type": "code",
   "execution_count": 19,
   "id": "f63ebd6b",
   "metadata": {},
   "outputs": [
    {
     "data": {
      "image/png": "[encoded data removed]",
      "text/plain": [
       "<Figure size 936x432 with 1 Axes>"
      ]
     },
     "metadata": {},
     "output_type": "display_data"
    }
   ],
   "source": [
    "game_actions[game_actions.ending == 'churn'].groupby('user_id', as_index=False).lifetime.max().hist(bins=30)\n",
    "plt.title('Распределение продолжительности игры пользователей попавших в отток')\n",
    "plt.xlabel('Число дней')\n",
    "plt.ylabel('Число игроков')\n",
    "plt.show()"
   ]
  },
  {
   "cell_type": "code",
   "execution_count": 20,
   "id": "5cf0ab6d",
   "metadata": {},
   "outputs": [
    {
     "data": {
      "text/plain": [
       "lifetime    10.74623\n",
       "dtype: float64"
      ]
     },
     "execution_count": 20,
     "metadata": {},
     "output_type": "execute_result"
    }
   ],
   "source": [
    "game_actions[game_actions.ending == 'churn'].groupby('user_id', as_index=False).lifetime.max().mean()"
   ]
  },
  {
   "cell_type": "markdown",
   "id": "94afa89a",
   "metadata": {},
   "source": [
    "- Отточные пользователи уходят между 5 и 17 днем. В среднем на 11-й день.\n",
    "- Они уходят не сразу, и их распределение близко к распределению пользователей завершивших 1-й уровень. Возможно, они сталкиваются с препятствием под конец уровня, вероятно с поражением от другого игрока."
   ]
  },
  {
   "cell_type": "markdown",
   "id": "be4dcdcf",
   "metadata": {},
   "source": [
    "### Влияние даты привлечения\n",
    "\n",
    "По рекламным данным мы видели, что с каждым днем привлекается все меньше и меньше игроков."
   ]
  },
  {
   "cell_type": "code",
   "execution_count": 21,
   "id": "9e2de69b",
   "metadata": {},
   "outputs": [
    {
     "data": {
      "image/png": "[encoded data removed]",
      "text/plain": [
       "<Figure size 936x432 with 1 Axes>"
      ]
     },
     "metadata": {},
     "output_type": "display_data"
    }
   ],
   "source": [
    "table = cac.groupby('acquisition_date', as_index=False).users.sum()\n",
    "sns.barplot(x=table.acquisition_date.dt.date, y='users', data=table)\n",
    "plt.title('Изменение притока игроков со временем')\n",
    "plt.ylabel('Число новых игроков')\n",
    "plt.xlabel('День привлечения')\n",
    "plt.show()"
   ]
  },
  {
   "cell_type": "markdown",
   "id": "55541f91",
   "metadata": {},
   "source": [
    "Это полностью регулируется маркетинговой политикой, так что просто стоит иметь ввиду, что влияние первой когорты будет наиболее значительным. Посмотрим как меняются средние значения числа событий от даты привлечения."
   ]
  },
  {
   "cell_type": "code",
   "execution_count": 22,
   "id": "77eade19",
   "metadata": {},
   "outputs": [
    {
     "data": {
      "text/html": [
       "<style  type=\"text/css\" >\n",
       "</style><table id=\"T_82a8c_\" ><thead>    <tr>        <th class=\"blank level0\" ></th>        <th class=\"col_heading level0 col0\" >acquisition_date</th>        <th class=\"col_heading level0 col1\" >events</th>        <th class=\"col_heading level0 col2\" >cac</th>        <th class=\"col_heading level0 col3\" >aggressive</th>        <th class=\"col_heading level0 col4\" >churn</th>        <th class=\"col_heading level0 col5\" >constructive</th>    </tr></thead><tbody>\n",
       "                <tr>\n",
       "                        <th id=\"T_82a8c_level0_row0\" class=\"row_heading level0 row0\" >0</th>\n",
       "                        <td id=\"T_82a8c_row0_col0\" class=\"data row0 col0\" >2020-05-04 00:00:00</td>\n",
       "                        <td id=\"T_82a8c_row0_col1\" class=\"data row0 col1\" >10.960068</td>\n",
       "                        <td id=\"T_82a8c_row0_col2\" class=\"data row0 col2\" >0.563558</td>\n",
       "                        <td id=\"T_82a8c_row0_col3\" class=\"data row0 col3\" >29.85%</td>\n",
       "                        <td id=\"T_82a8c_row0_col4\" class=\"data row0 col4\" >54.44%</td>\n",
       "                        <td id=\"T_82a8c_row0_col5\" class=\"data row0 col5\" >15.72%</td>\n",
       "            </tr>\n",
       "            <tr>\n",
       "                        <th id=\"T_82a8c_level0_row1\" class=\"row_heading level0 row1\" >1</th>\n",
       "                        <td id=\"T_82a8c_row1_col0\" class=\"data row1 col0\" >2020-05-05 00:00:00</td>\n",
       "                        <td id=\"T_82a8c_row1_col1\" class=\"data row1 col1\" >10.340970</td>\n",
       "                        <td id=\"T_82a8c_row1_col2\" class=\"data row1 col2\" >0.554896</td>\n",
       "                        <td id=\"T_82a8c_row1_col3\" class=\"data row1 col3\" >30.26%</td>\n",
       "                        <td id=\"T_82a8c_row1_col4\" class=\"data row1 col4\" >54.98%</td>\n",
       "                        <td id=\"T_82a8c_row1_col5\" class=\"data row1 col5\" >14.76%</td>\n",
       "            </tr>\n",
       "            <tr>\n",
       "                        <th id=\"T_82a8c_level0_row2\" class=\"row_heading level0 row2\" >2</th>\n",
       "                        <td id=\"T_82a8c_row2_col0\" class=\"data row2 col0\" >2020-05-06 00:00:00</td>\n",
       "                        <td id=\"T_82a8c_row2_col1\" class=\"data row2 col1\" >9.420141</td>\n",
       "                        <td id=\"T_82a8c_row2_col2\" class=\"data row2 col2\" >0.557353</td>\n",
       "                        <td id=\"T_82a8c_row2_col3\" class=\"data row2 col3\" >28.64%</td>\n",
       "                        <td id=\"T_82a8c_row2_col4\" class=\"data row2 col4\" >58.26%</td>\n",
       "                        <td id=\"T_82a8c_row2_col5\" class=\"data row2 col5\" >13.10%</td>\n",
       "            </tr>\n",
       "            <tr>\n",
       "                        <th id=\"T_82a8c_level0_row3\" class=\"row_heading level0 row3\" >3</th>\n",
       "                        <td id=\"T_82a8c_row3_col0\" class=\"data row3 col0\" >2020-05-07 00:00:00</td>\n",
       "                        <td id=\"T_82a8c_row3_col1\" class=\"data row3 col1\" >8.502254</td>\n",
       "                        <td id=\"T_82a8c_row3_col2\" class=\"data row3 col2\" >0.559492</td>\n",
       "                        <td id=\"T_82a8c_row3_col3\" class=\"data row3 col3\" >26.96%</td>\n",
       "                        <td id=\"T_82a8c_row3_col4\" class=\"data row3 col4\" >62.85%</td>\n",
       "                        <td id=\"T_82a8c_row3_col5\" class=\"data row3 col5\" >10.19%</td>\n",
       "            </tr>\n",
       "            <tr>\n",
       "                        <th id=\"T_82a8c_level0_row4\" class=\"row_heading level0 row4\" >4</th>\n",
       "                        <td id=\"T_82a8c_row4_col0\" class=\"data row4 col0\" >2020-05-08 00:00:00</td>\n",
       "                        <td id=\"T_82a8c_row4_col1\" class=\"data row4 col1\" >7.443314</td>\n",
       "                        <td id=\"T_82a8c_row4_col2\" class=\"data row4 col2\" >0.569552</td>\n",
       "                        <td id=\"T_82a8c_row4_col3\" class=\"data row4 col3\" >27.33%</td>\n",
       "                        <td id=\"T_82a8c_row4_col4\" class=\"data row4 col4\" >65.84%</td>\n",
       "                        <td id=\"T_82a8c_row4_col5\" class=\"data row4 col5\" >6.83%</td>\n",
       "            </tr>\n",
       "            <tr>\n",
       "                        <th id=\"T_82a8c_level0_row5\" class=\"row_heading level0 row5\" >5</th>\n",
       "                        <td id=\"T_82a8c_row5_col0\" class=\"data row5 col0\" >2020-05-09 00:00:00</td>\n",
       "                        <td id=\"T_82a8c_row5_col1\" class=\"data row5 col1\" >6.875000</td>\n",
       "                        <td id=\"T_82a8c_row5_col2\" class=\"data row5 col2\" >0.551744</td>\n",
       "                        <td id=\"T_82a8c_row5_col3\" class=\"data row5 col3\" >22.50%</td>\n",
       "                        <td id=\"T_82a8c_row5_col4\" class=\"data row5 col4\" >69.55%</td>\n",
       "                        <td id=\"T_82a8c_row5_col5\" class=\"data row5 col5\" >7.95%</td>\n",
       "            </tr>\n",
       "            <tr>\n",
       "                        <th id=\"T_82a8c_level0_row6\" class=\"row_heading level0 row6\" >6</th>\n",
       "                        <td id=\"T_82a8c_row6_col0\" class=\"data row6 col0\" >2020-05-10 00:00:00</td>\n",
       "                        <td id=\"T_82a8c_row6_col1\" class=\"data row6 col1\" >6.210332</td>\n",
       "                        <td id=\"T_82a8c_row6_col2\" class=\"data row6 col2\" >0.559383</td>\n",
       "                        <td id=\"T_82a8c_row6_col3\" class=\"data row6 col3\" >25.83%</td>\n",
       "                        <td id=\"T_82a8c_row6_col4\" class=\"data row6 col4\" >69.74%</td>\n",
       "                        <td id=\"T_82a8c_row6_col5\" class=\"data row6 col5\" >4.43%</td>\n",
       "            </tr>\n",
       "    </tbody></table>"
      ],
      "text/plain": [
       "<pandas.io.formats.style.Styler at 0x1a3f19997f0>"
      ]
     },
     "execution_count": 22,
     "metadata": {},
     "output_type": "execute_result"
    }
   ],
   "source": [
    "dummies_groupby(profiles, 'acquisition_date', 'ending')"
   ]
  },
  {
   "cell_type": "markdown",
   "id": "20def101",
   "metadata": {},
   "source": [
    "Число событий все меньше и меньше в каждой когорте, а отток все выше - тревожная тенденция. Возможно это связано с тем, что поздние когорты не укладываются в наблюдаемый период и мы это не увидели раньше из-за их меньшей численности?"
   ]
  },
  {
   "cell_type": "code",
   "execution_count": 23,
   "id": "cc9e2ccc",
   "metadata": {},
   "outputs": [
    {
     "data": {
      "image/png": "[encoded data removed]",
      "text/plain": [
       "<Figure size 936x432 with 1 Axes>"
      ]
     },
     "metadata": {},
     "output_type": "display_data"
    },
    {
     "data": {
      "image/png": "[encoded data removed]",
      "text/plain": [
       "<Figure size 936x432 with 1 Axes>"
      ]
     },
     "metadata": {},
     "output_type": "display_data"
    }
   ],
   "source": [
    "game_actions.loc[game_actions.acquisition_date == game_actions.acquisition_date.max(), 'event_datetime'].hist(bins=100)\n",
    "plt.title(f'Гистограмма когорты привлеченной 10 Апреля')\n",
    "plt.ylabel('Число событий')\n",
    "plt.xticks(rotation=30)\n",
    "plt.show()\n",
    "\n",
    "for date in game_actions.acquisition_date.unique():\n",
    "    game_actions.loc[game_actions.acquisition_date == date, 'event_datetime'].hist(bins=100)\n",
    "plt.title(f'Гистограммы числа событий в зависимости от даты привлечения')\n",
    "plt.ylabel('Число событий')\n",
    "plt.xticks(rotation=30)\n",
    "plt.show()"
   ]
  },
  {
   "cell_type": "markdown",
   "id": "15009747",
   "metadata": {},
   "source": [
    "- Большинство событий в последней когорте происходит до конца наблюдений, так что аномалия не из-за неполноты данных;\n",
    "- В данных наблюдается аномальный \"навес\" из событий до 10-го числа. Именно из-за него есть дисбаланс событий между когортами. Видимо компания проводила внутриигровую промоакцию паралельно внешним маркетинговыми компаниями, а более поздние когорты охватили лишь конец этой акции и не получили бонуса к активности игроков."
   ]
  },
  {
   "cell_type": "markdown",
   "id": "96255749",
   "metadata": {},
   "source": [
    "### Пользователи из разных источников траффика"
   ]
  },
  {
   "cell_type": "code",
   "execution_count": 24,
   "id": "39fa7ee3",
   "metadata": {},
   "outputs": [
    {
     "data": {
      "text/html": [
       "<style  type=\"text/css\" >\n",
       "</style><table id=\"T_6cee6_\" ><thead>    <tr>        <th class=\"blank level0\" ></th>        <th class=\"col_heading level0 col0\" >source</th>        <th class=\"col_heading level0 col1\" >events</th>        <th class=\"col_heading level0 col2\" >cac</th>        <th class=\"col_heading level0 col3\" >aggressive</th>        <th class=\"col_heading level0 col4\" >churn</th>        <th class=\"col_heading level0 col5\" >constructive</th>    </tr></thead><tbody>\n",
       "                <tr>\n",
       "                        <th id=\"T_6cee6_level0_row0\" class=\"row_heading level0 row0\" >0</th>\n",
       "                        <td id=\"T_6cee6_row0_col0\" class=\"data row0 col0\" >facebook_ads</td>\n",
       "                        <td id=\"T_6cee6_row0_col1\" class=\"data row0 col1\" >10.151137</td>\n",
       "                        <td id=\"T_6cee6_row0_col2\" class=\"data row0 col2\" >0.785365</td>\n",
       "                        <td id=\"T_6cee6_row0_col3\" class=\"data row0 col3\" >27.84%</td>\n",
       "                        <td id=\"T_6cee6_row0_col4\" class=\"data row0 col4\" >57.81%</td>\n",
       "                        <td id=\"T_6cee6_row0_col5\" class=\"data row0 col5\" >14.34%</td>\n",
       "            </tr>\n",
       "            <tr>\n",
       "                        <th id=\"T_6cee6_level0_row1\" class=\"row_heading level0 row1\" >1</th>\n",
       "                        <td id=\"T_6cee6_row1_col0\" class=\"data row1 col0\" >instagram_new_adverts</td>\n",
       "                        <td id=\"T_6cee6_row1_col1\" class=\"data row1 col1\" >10.085748</td>\n",
       "                        <td id=\"T_6cee6_row1_col2\" class=\"data row1 col2\" >0.645785</td>\n",
       "                        <td id=\"T_6cee6_row1_col3\" class=\"data row1 col3\" >29.58%</td>\n",
       "                        <td id=\"T_6cee6_row1_col4\" class=\"data row1 col4\" >56.20%</td>\n",
       "                        <td id=\"T_6cee6_row1_col5\" class=\"data row1 col5\" >14.22%</td>\n",
       "            </tr>\n",
       "            <tr>\n",
       "                        <th id=\"T_6cee6_level0_row2\" class=\"row_heading level0 row2\" >2</th>\n",
       "                        <td id=\"T_6cee6_row2_col0\" class=\"data row2 col0\" >yandex_direct</td>\n",
       "                        <td id=\"T_6cee6_row2_col1\" class=\"data row2 col1\" >9.901183</td>\n",
       "                        <td id=\"T_6cee6_row2_col2\" class=\"data row2 col2\" >0.463590</td>\n",
       "                        <td id=\"T_6cee6_row2_col3\" class=\"data row2 col3\" >29.52%</td>\n",
       "                        <td id=\"T_6cee6_row2_col4\" class=\"data row2 col4\" >57.61%</td>\n",
       "                        <td id=\"T_6cee6_row2_col5\" class=\"data row2 col5\" >12.87%</td>\n",
       "            </tr>\n",
       "            <tr>\n",
       "                        <th id=\"T_6cee6_level0_row3\" class=\"row_heading level0 row3\" >3</th>\n",
       "                        <td id=\"T_6cee6_row3_col0\" class=\"data row3 col0\" >youtube_channel_reklama</td>\n",
       "                        <td id=\"T_6cee6_row3_col1\" class=\"data row3 col1\" >9.871929</td>\n",
       "                        <td id=\"T_6cee6_row3_col2\" class=\"data row3 col2\" >0.397662</td>\n",
       "                        <td id=\"T_6cee6_row3_col3\" class=\"data row3 col3\" >29.04%</td>\n",
       "                        <td id=\"T_6cee6_row3_col4\" class=\"data row3 col4\" >56.85%</td>\n",
       "                        <td id=\"T_6cee6_row3_col5\" class=\"data row3 col5\" >14.11%</td>\n",
       "            </tr>\n",
       "    </tbody></table>"
      ],
      "text/plain": [
       "<pandas.io.formats.style.Styler at 0x1a3f08fe100>"
      ]
     },
     "execution_count": 24,
     "metadata": {},
     "output_type": "execute_result"
    }
   ],
   "source": [
    "dummies_groupby(profiles, 'source', 'ending')"
   ]
  },
  {
   "cell_type": "markdown",
   "id": "4823e1a4",
   "metadata": {},
   "source": [
    "Сложно сказать, что с разных источников приходят разные пользователи. Разницу в данных можно считать статистической погрешностью."
   ]
  },
  {
   "cell_type": "markdown",
   "id": "7bf9c34b",
   "metadata": {},
   "source": [
    "### Изучение распределения типов зданий"
   ]
  },
  {
   "cell_type": "code",
   "execution_count": 25,
   "id": "74ad4cd4",
   "metadata": {},
   "outputs": [
    {
     "data": {
      "image/png": "[encoded data removed]",
      "text/plain": [
       "<Figure size 936x432 with 1 Axes>"
      ]
     },
     "metadata": {},
     "output_type": "display_data"
    }
   ],
   "source": [
    "game_actions.loc[game_actions.building_type == 'assembly_shop', 'event_datetime'].hist(bins=28, legend=True)\n",
    "game_actions.loc[game_actions.building_type == 'spaceport', 'event_datetime'].hist(bins=128, legend=True)\n",
    "game_actions.loc[game_actions.building_type == 'research_center', 'event_datetime'].hist(bins=124, legend=True)\n",
    "plt.legend(labels=['assembly_shop', 'spaceport', 'research_center'])\n",
    "plt.title('Распределение построек во времени')\n",
    "plt.ylabel('Число построек')\n",
    "plt.xticks(rotation=30)\n",
    "plt.show()"
   ]
  },
  {
   "cell_type": "markdown",
   "id": "c1c1e8a3",
   "metadata": {},
   "source": [
    "- Для `assembly_shop` (сборочный цех) очень странное распределение - все постройки были возведены в начальный период, а само распределение квадратной формы;\n",
    "- `spaceport` (космопорт) - реалистичное распределение, пик его приходится на 8-й день игры, эту постройку стоит рассматривать как разграничитель раннего и среднего игровых этапов;\n",
    "- `research_center` (исследовательский центр) - пик приходится позже чем у `spaceport`, следовательно основная масса зданий были построены в поздней стадии игры, так что его также стоит рассматривать как индикатор, но только уже поздней стадии игры.\n",
    "\n",
    "Рассмотрим распределения каждое в отдельности."
   ]
  },
  {
   "cell_type": "markdown",
   "id": "fa3d5b69",
   "metadata": {},
   "source": [
    "#### Сборочные цеха"
   ]
  },
  {
   "cell_type": "code",
   "execution_count": 26,
   "id": "d908bc90",
   "metadata": {},
   "outputs": [
    {
     "data": {
      "image/png": "[encoded data removed]",
      "text/plain": [
       "<Figure size 936x432 with 1 Axes>"
      ]
     },
     "metadata": {},
     "output_type": "display_data"
    }
   ],
   "source": [
    "game_actions.loc[game_actions.building_type == 'assembly_shop', 'event_datetime'].hist(bins=28)\n",
    "plt.title('Распределение построенных сборочных цехов во времени')\n",
    "plt.ylabel('Число построек')\n",
    "plt.show()"
   ]
  },
  {
   "cell_type": "code",
   "execution_count": 27,
   "id": "77f6eaf0",
   "metadata": {},
   "outputs": [
    {
     "data": {
      "text/plain": [
       "Timestamp('2020-05-10 23:59:56')"
      ]
     },
     "execution_count": 27,
     "metadata": {},
     "output_type": "execute_result"
    }
   ],
   "source": [
    "game_actions.loc[game_actions.building_type == 'assembly_shop', 'event_datetime'].max()"
   ]
  },
  {
   "cell_type": "markdown",
   "id": "710066d9",
   "metadata": {},
   "source": [
    "- Распределение выглядит совершенно неестественным, на него будто не влияет изменение пользовательского поведения, а здания распределены во времении равномерно независимо от числа пользователей.\n",
    "- Возможно здания \"выпадали\" случайным образом активным пользователям во время маркетинговых компаний 4-10 Апреля, а с их окончанием и возможность получить данное здание закончилось, т.к. последнее здание данного типа было построено в 23:59:56 11 Апреля.\n",
    "- Так как после 11 апреля не было построено ни одного здания этого типа, то возможно у игроков отсутствует возможность строить его самостоятельно, либо оно для них абсолютно непривлекательно. В первом случае это техническая проблема, которая значительно режет геймплейные возможности, во втором стоит задуматься о переработке здания. Второй вариант очень маловероятен как минимум потому, что мы должны были видеть на графике миссклики и случайно построенные здания."
   ]
  },
  {
   "cell_type": "code",
   "execution_count": 28,
   "id": "64d9db6b",
   "metadata": {},
   "outputs": [
    {
     "data": {
      "image/png": "[encoded data removed]",
      "text/plain": [
       "<Figure size 936x432 with 1 Axes>"
      ]
     },
     "metadata": {},
     "output_type": "display_data"
    }
   ],
   "source": [
    "table = game_actions[game_actions.building_type == 'assembly_shop']\\\n",
    "            .groupby(['user_id', 'acquisition_date'], as_index=False).event.count()\\\n",
    "            .groupby('acquisition_date', as_index=False).event.mean()\n",
    "\n",
    "sns.barplot(x=table.acquisition_date.dt.date, y='event', data=table)\n",
    "plt.title('Изменение числа сборочных цехов на игрока в зависимости от даты привлечения')\n",
    "plt.ylabel('Среднее число сборочных цехов на игрока')\n",
    "plt.xlabel('День привлечения')\n",
    "plt.show()"
   ]
  },
  {
   "cell_type": "markdown",
   "id": "816520de",
   "metadata": {},
   "source": [
    "- Кто раньше пришел, тот и получил больше космопортов;\n",
    "- Распределение космопортов случайно и не зависит от пользовательского поведения, поэтому определить изменение стадии игры по этому признаку невозможно.\n",
    "\n",
    "Интересно посмотреть, может ли такой случайный параметр опредилить характер игры?"
   ]
  },
  {
   "cell_type": "code",
   "execution_count": 29,
   "id": "8ad4c992",
   "metadata": {},
   "outputs": [
    {
     "data": {
      "text/html": [
       "<style  type=\"text/css\" >\n",
       "</style><table id=\"T_c8254_\" ><thead>    <tr>        <th class=\"blank level0\" ></th>        <th class=\"col_heading level0 col0\" >assembly_shops</th>        <th class=\"col_heading level0 col1\" >aggressive</th>        <th class=\"col_heading level0 col2\" >churn</th>        <th class=\"col_heading level0 col3\" >constructive</th>    </tr></thead><tbody>\n",
       "                <tr>\n",
       "                        <th id=\"T_c8254_level0_row0\" class=\"row_heading level0 row0\" >0</th>\n",
       "                        <td id=\"T_c8254_row0_col0\" class=\"data row0 col0\" >1</td>\n",
       "                        <td id=\"T_c8254_row0_col1\" class=\"data row0 col1\" >24.90%</td>\n",
       "                        <td id=\"T_c8254_row0_col2\" class=\"data row0 col2\" >70.04%</td>\n",
       "                        <td id=\"T_c8254_row0_col3\" class=\"data row0 col3\" >5.06%</td>\n",
       "            </tr>\n",
       "            <tr>\n",
       "                        <th id=\"T_c8254_level0_row1\" class=\"row_heading level0 row1\" >1</th>\n",
       "                        <td id=\"T_c8254_row1_col0\" class=\"data row1 col0\" >2</td>\n",
       "                        <td id=\"T_c8254_row1_col1\" class=\"data row1 col1\" >25.61%</td>\n",
       "                        <td id=\"T_c8254_row1_col2\" class=\"data row1 col2\" >65.87%</td>\n",
       "                        <td id=\"T_c8254_row1_col3\" class=\"data row1 col3\" >8.52%</td>\n",
       "            </tr>\n",
       "            <tr>\n",
       "                        <th id=\"T_c8254_level0_row2\" class=\"row_heading level0 row2\" >2</th>\n",
       "                        <td id=\"T_c8254_row2_col0\" class=\"data row2 col0\" >3</td>\n",
       "                        <td id=\"T_c8254_row2_col1\" class=\"data row2 col1\" >30.11%</td>\n",
       "                        <td id=\"T_c8254_row2_col2\" class=\"data row2 col2\" >60.12%</td>\n",
       "                        <td id=\"T_c8254_row2_col3\" class=\"data row2 col3\" >9.77%</td>\n",
       "            </tr>\n",
       "            <tr>\n",
       "                        <th id=\"T_c8254_level0_row3\" class=\"row_heading level0 row3\" >3</th>\n",
       "                        <td id=\"T_c8254_row3_col0\" class=\"data row3 col0\" >4</td>\n",
       "                        <td id=\"T_c8254_row3_col1\" class=\"data row3 col1\" >31.96%</td>\n",
       "                        <td id=\"T_c8254_row3_col2\" class=\"data row3 col2\" >54.89%</td>\n",
       "                        <td id=\"T_c8254_row3_col3\" class=\"data row3 col3\" >13.15%</td>\n",
       "            </tr>\n",
       "            <tr>\n",
       "                        <th id=\"T_c8254_level0_row4\" class=\"row_heading level0 row4\" >4</th>\n",
       "                        <td id=\"T_c8254_row4_col0\" class=\"data row4 col0\" >5</td>\n",
       "                        <td id=\"T_c8254_row4_col1\" class=\"data row4 col1\" >31.98%</td>\n",
       "                        <td id=\"T_c8254_row4_col2\" class=\"data row4 col2\" >52.26%</td>\n",
       "                        <td id=\"T_c8254_row4_col3\" class=\"data row4 col3\" >15.76%</td>\n",
       "            </tr>\n",
       "            <tr>\n",
       "                        <th id=\"T_c8254_level0_row5\" class=\"row_heading level0 row5\" >5</th>\n",
       "                        <td id=\"T_c8254_row5_col0\" class=\"data row5 col0\" >6</td>\n",
       "                        <td id=\"T_c8254_row5_col1\" class=\"data row5 col1\" >30.31%</td>\n",
       "                        <td id=\"T_c8254_row5_col2\" class=\"data row5 col2\" >48.45%</td>\n",
       "                        <td id=\"T_c8254_row5_col3\" class=\"data row5 col3\" >21.24%</td>\n",
       "            </tr>\n",
       "            <tr>\n",
       "                        <th id=\"T_c8254_level0_row6\" class=\"row_heading level0 row6\" >6</th>\n",
       "                        <td id=\"T_c8254_row6_col0\" class=\"data row6 col0\" >7</td>\n",
       "                        <td id=\"T_c8254_row6_col1\" class=\"data row6 col1\" >28.75%</td>\n",
       "                        <td id=\"T_c8254_row6_col2\" class=\"data row6 col2\" >48.78%</td>\n",
       "                        <td id=\"T_c8254_row6_col3\" class=\"data row6 col3\" >22.46%</td>\n",
       "            </tr>\n",
       "    </tbody></table>"
      ],
      "text/plain": [
       "<pandas.io.formats.style.Styler at 0x1a3f0555550>"
      ]
     },
     "execution_count": 29,
     "metadata": {},
     "output_type": "execute_result"
    }
   ],
   "source": [
    "dummies_groupby(\n",
    "    (game_actions[game_actions.building_type == 'assembly_shop']          # оставим события с цехами\n",
    "     .groupby(['user_id', 'acquisition_date', 'ending'], as_index=False)  # сгруппируем по id, дате привлечения и типу эндинга\n",
    "     .agg(assembly_shops=('event', 'count'))),                            # посчитаем число событий\n",
    "    'assembly_shops', 'ending')"
   ]
  },
  {
   "cell_type": "markdown",
   "id": "70924668",
   "metadata": {},
   "source": [
    "Вероятность мирной победы практически полностью определяет число сборочных цехов у игрока:\n",
    "- с ростом числа цехов, после 3-го, отток перетекает исключительно в мирную группу;\n",
    "- чтобы игрок полноценно мог реализовать эту стратегию ему нужно 6 цехов, тогда как для агрессивной стратегии достаточно всего 3;\n",
    "- если у игрока недостаточно цехов, то скорее всего он попадает в отток."
   ]
  },
  {
   "cell_type": "markdown",
   "id": "3c94ad64",
   "metadata": {},
   "source": [
    "#### Космопорты"
   ]
  },
  {
   "cell_type": "code",
   "execution_count": 30,
   "id": "a2543e08",
   "metadata": {},
   "outputs": [
    {
     "data": {
      "image/png": "[encoded data removed]",
      "text/plain": [
       "<Figure size 936x432 with 1 Axes>"
      ]
     },
     "metadata": {},
     "output_type": "display_data"
    }
   ],
   "source": [
    "game_actions.loc[game_actions.building_type == 'spaceport', 'event_datetime'].hist(bins=128)\n",
    "plt.title('Распределение построенных космопортов во времени')\n",
    "plt.ylabel('Число построек')\n",
    "plt.xticks(rotation=30)\n",
    "plt.show()"
   ]
  },
  {
   "cell_type": "markdown",
   "id": "9152fd05",
   "metadata": {},
   "source": [
    "Большинство космопортов сторится не сразу, но в первой половине игры. Возможно это ключ к пониманию того когда заканчивается онбординг игрока и ему можно показывать рекламу.\n",
    "\n",
    "Посмотрим на каком лайфтайме средний игрок отстраивает первый космопорт."
   ]
  },
  {
   "cell_type": "code",
   "execution_count": 31,
   "id": "bca60ffb",
   "metadata": {},
   "outputs": [
    {
     "data": {
      "image/png": "[encoded data removed]",
      "text/plain": [
       "<Figure size 936x432 with 1 Axes>"
      ]
     },
     "metadata": {},
     "output_type": "display_data"
    }
   ],
   "source": [
    "game_actions[game_actions.building_type == 'spaceport']\\\n",
    "            .groupby('user_id', as_index=False).lifetime.first().hist(bins=13)\n",
    "plt.title('Постройка первого космопорта')\n",
    "plt.ylabel('Число игроков')\n",
    "plt.xlabel('День игры')\n",
    "plt.show()"
   ]
  },
  {
   "cell_type": "code",
   "execution_count": 32,
   "id": "c5c70f16",
   "metadata": {},
   "outputs": [
    {
     "data": {
      "text/plain": [
       "lifetime    4.0\n",
       "dtype: float64"
      ]
     },
     "execution_count": 32,
     "metadata": {},
     "output_type": "execute_result"
    }
   ],
   "source": [
    "game_actions[game_actions.building_type == 'spaceport'].groupby('user_id', as_index=False).lifetime.first().median()"
   ]
  },
  {
   "cell_type": "markdown",
   "id": "5b66cf2c",
   "metadata": {},
   "source": [
    "- В основном космопорты строятся со 2-го по 7-й день игры, в среднем на 4-й день;\n",
    "- Так как игра длится от 5 до 17 дней, то первый космопорт можно считать переходом в мидгейм."
   ]
  },
  {
   "cell_type": "markdown",
   "id": "4f386d04",
   "metadata": {},
   "source": [
    "#### Исследовательские центры"
   ]
  },
  {
   "cell_type": "code",
   "execution_count": 33,
   "id": "1f76ac6a",
   "metadata": {},
   "outputs": [
    {
     "data": {
      "image/png": "[encoded data removed]",
      "text/plain": [
       "<Figure size 936x432 with 1 Axes>"
      ]
     },
     "metadata": {},
     "output_type": "display_data"
    },
    {
     "data": {
      "image/png": "[encoded data removed]",
      "text/plain": [
       "<Figure size 936x432 with 1 Axes>"
      ]
     },
     "metadata": {},
     "output_type": "display_data"
    }
   ],
   "source": [
    "game_actions.loc[game_actions.building_type == 'research_center', 'event_datetime'].hist(bins=128)\n",
    "plt.title('Распределение построенных исследовательских центров во времени')\n",
    "plt.ylabel('Число построек')\n",
    "plt.xticks(rotation=30)\n",
    "plt.show()\n",
    "\n",
    "game_actions[game_actions.building_type == 'research_center']\\\n",
    "            .groupby('user_id', as_index=False).lifetime.first().hist(bins=30)\n",
    "plt.title('Постройка первого исследовательского центра')\n",
    "plt.ylabel('Число игроков')\n",
    "plt.xlabel('День игры')\n",
    "plt.show()"
   ]
  },
  {
   "cell_type": "code",
   "execution_count": 34,
   "id": "07283c8d",
   "metadata": {},
   "outputs": [
    {
     "data": {
      "text/plain": [
       "lifetime    10.0\n",
       "dtype: float64"
      ]
     },
     "execution_count": 34,
     "metadata": {},
     "output_type": "execute_result"
    }
   ],
   "source": [
    "game_actions[game_actions.building_type == 'research_center']\\\n",
    "            .groupby('user_id', as_index=False).lifetime.first().median()"
   ]
  },
  {
   "cell_type": "markdown",
   "id": "4b3cd240",
   "metadata": {},
   "source": [
    "- Исследовательские центры строятся во второй половине игры, ближе к ее окончанию. В основном между 6-м и 15-м днем игры. В среднем на 10-й день;\n",
    "- По нему можно детектировать эндгейм."
   ]
  },
  {
   "cell_type": "markdown",
   "id": "5fa9ecdb",
   "metadata": {},
   "source": [
    "### Влияние стиля игры - агрессивного / мирного"
   ]
  },
  {
   "cell_type": "code",
   "execution_count": 35,
   "id": "8a9b4fc6",
   "metadata": {},
   "outputs": [
    {
     "data": {
      "text/html": [
       "<style  type=\"text/css\" >\n",
       "</style><table id=\"T_c6ad7_\" ><thead>    <tr>        <th class=\"blank level0\" ></th>        <th class=\"col_heading level0 col0\" >ending</th>        <th class=\"col_heading level0 col1\" >lifetime</th>        <th class=\"col_heading level0 col2\" >assembly_shops</th>        <th class=\"col_heading level0 col3\" >assembly_shop_ratio</th>        <th class=\"col_heading level0 col4\" >research_centers</th>        <th class=\"col_heading level0 col5\" >research_center_ratio</th>        <th class=\"col_heading level0 col6\" >spaceports</th>        <th class=\"col_heading level0 col7\" >spaceport_ratio</th>    </tr></thead><tbody>\n",
       "                <tr>\n",
       "                        <th id=\"T_c6ad7_level0_row0\" class=\"row_heading level0 row0\" >0</th>\n",
       "                        <td id=\"T_c6ad7_row0_col0\" class=\"data row0 col0\" >aggressive</td>\n",
       "                        <td id=\"T_c6ad7_row0_col1\" class=\"data row0 col1\" >12.058466</td>\n",
       "                        <td id=\"T_c6ad7_row0_col2\" class=\"data row0 col2\" >4.125032</td>\n",
       "                        <td id=\"T_c6ad7_row0_col3\" class=\"data row0 col3\" >43.83%</td>\n",
       "                        <td id=\"T_c6ad7_row0_col4\" class=\"data row0 col4\" >0.950392</td>\n",
       "                        <td id=\"T_c6ad7_row0_col5\" class=\"data row0 col5\" >10.10%</td>\n",
       "                        <td id=\"T_c6ad7_row0_col6\" class=\"data row0 col6\" >4.336117</td>\n",
       "                        <td id=\"T_c6ad7_row0_col7\" class=\"data row0 col7\" >46.07%</td>\n",
       "            </tr>\n",
       "            <tr>\n",
       "                        <th id=\"T_c6ad7_level0_row1\" class=\"row_heading level0 row1\" >1</th>\n",
       "                        <td id=\"T_c6ad7_row1_col0\" class=\"data row1 col0\" >churn</td>\n",
       "                        <td id=\"T_c6ad7_row1_col1\" class=\"data row1 col1\" >10.746230</td>\n",
       "                        <td id=\"T_c6ad7_row1_col2\" class=\"data row1 col2\" >3.747906</td>\n",
       "                        <td id=\"T_c6ad7_row1_col3\" class=\"data row1 col3\" >43.29%</td>\n",
       "                        <td id=\"T_c6ad7_row1_col4\" class=\"data row1 col4\" >0.861580</td>\n",
       "                        <td id=\"T_c6ad7_row1_col5\" class=\"data row1 col5\" >9.95%</td>\n",
       "                        <td id=\"T_c6ad7_row1_col6\" class=\"data row1 col6\" >4.047558</td>\n",
       "                        <td id=\"T_c6ad7_row1_col7\" class=\"data row1 col7\" >46.75%</td>\n",
       "            </tr>\n",
       "            <tr>\n",
       "                        <th id=\"T_c6ad7_level0_row2\" class=\"row_heading level0 row2\" >2</th>\n",
       "                        <td id=\"T_c6ad7_row2_col0\" class=\"data row2 col0\" >constructive</td>\n",
       "                        <td id=\"T_c6ad7_row2_col1\" class=\"data row2 col1\" >14.396570</td>\n",
       "                        <td id=\"T_c6ad7_row2_col2\" class=\"data row2 col2\" >4.885316</td>\n",
       "                        <td id=\"T_c6ad7_row2_col3\" class=\"data row2 col3\" >38.63%</td>\n",
       "                        <td id=\"T_c6ad7_row2_col4\" class=\"data row2 col4\" >1.981243</td>\n",
       "                        <td id=\"T_c6ad7_row2_col5\" class=\"data row2 col5\" >15.66%</td>\n",
       "                        <td id=\"T_c6ad7_row2_col6\" class=\"data row2 col6\" >5.781350</td>\n",
       "                        <td id=\"T_c6ad7_row2_col7\" class=\"data row2 col7\" >45.71%</td>\n",
       "            </tr>\n",
       "    </tbody></table>"
      ],
      "text/plain": [
       "<pandas.io.formats.style.Styler at 0x1a3f1b54460>"
      ]
     },
     "execution_count": 35,
     "metadata": {},
     "output_type": "execute_result"
    }
   ],
   "source": [
    "ratio = pd.get_dummies(game_actions.dropna(subset=['building_type']), columns=['building_type'], prefix='', prefix_sep='')\\\n",
    "                        .groupby('ending', as_index=False).mean().drop(columns='lifetime')\n",
    "\n",
    "mean = pd.get_dummies(game_actions, columns=['building_type'], prefix='', prefix_sep='')\\\n",
    "               .groupby('user_id', as_index=False).agg(ending=('ending', 'first'),\n",
    "                                                       lifetime=('lifetime', 'max'),\n",
    "                                                       assembly_shop=('assembly_shop', 'sum'),\n",
    "                                                       research_center=('research_center', 'sum'),\n",
    "                                                       spaceport=('spaceport', 'sum')\n",
    "                                                      ).groupby('ending', as_index=False).mean()\n",
    "\n",
    "style_table = mean.merge(ratio, on='ending')\n",
    "\n",
    "style_table.columns = ['ending', 'lifetime', 'assembly_shops', 'research_centers',\n",
    "       'spaceports', 'assembly_shop_ratio', 'research_center_ratio', 'spaceport_ratio']\n",
    "style_table = style_table.reindex(columns=['ending', 'lifetime', 'assembly_shops', 'assembly_shop_ratio', 'research_centers', 'research_center_ratio',\n",
    "       'spaceports', 'spaceport_ratio'])\n",
    "\n",
    "style_table.style.format({'assembly_shop_ratio': '{:.2%}',\n",
    "                                       'research_center_ratio': '{:.2%}',\n",
    "                                       'spaceport_ratio': '{:.2%}'})"
   ]
  },
  {
   "cell_type": "markdown",
   "id": "cf04debe",
   "metadata": {},
   "source": [
    "Игроки побеждающие через реализацию проекта уделяют больше внимания исследовательским центрам, и их продолжитьельность игры дольше."
   ]
  },
  {
   "cell_type": "markdown",
   "id": "4ab8a9e8",
   "metadata": {},
   "source": [
    "### Влияние событий на факт завершения уровня\n",
    "\n",
    "Мы уже видели, что игроки с событием `project` в 100% случаев завершили уровень, другие события это постройка здания и собственно завершение уровня. Поэтому в данном пункте рассмотрим как распределяется число зданий в зависимости от того закончен уровень или нет"
   ]
  },
  {
   "cell_type": "code",
   "execution_count": 36,
   "id": "3035d79f",
   "metadata": {},
   "outputs": [
    {
     "data": {
      "text/html": [
       "<div>\n",
       "<style scoped>\n",
       "    .dataframe tbody tr th:only-of-type {\n",
       "        vertical-align: middle;\n",
       "    }\n",
       "\n",
       "    .dataframe tbody tr th {\n",
       "        vertical-align: top;\n",
       "    }\n",
       "\n",
       "    .dataframe thead th {\n",
       "        text-align: right;\n",
       "    }\n",
       "</style>\n",
       "<table border=\"1\" class=\"dataframe\">\n",
       "  <thead>\n",
       "    <tr style=\"text-align: right;\">\n",
       "      <th></th>\n",
       "      <th>user_id</th>\n",
       "      <th>buildings</th>\n",
       "      <th>assembly_shops</th>\n",
       "      <th>spaceports</th>\n",
       "      <th>research_centers</th>\n",
       "      <th>ending</th>\n",
       "    </tr>\n",
       "  </thead>\n",
       "  <tbody>\n",
       "    <tr>\n",
       "      <th>0</th>\n",
       "      <td>0001f83c-c6ac-4621-b7f0-8a28b283ac30</td>\n",
       "      <td>13</td>\n",
       "      <td>6</td>\n",
       "      <td>6</td>\n",
       "      <td>1</td>\n",
       "      <td>churn</td>\n",
       "    </tr>\n",
       "    <tr>\n",
       "      <th>1</th>\n",
       "      <td>00151b4f-ba38-44a8-a650-d7cf130a0105</td>\n",
       "      <td>9</td>\n",
       "      <td>4</td>\n",
       "      <td>5</td>\n",
       "      <td>0</td>\n",
       "      <td>churn</td>\n",
       "    </tr>\n",
       "    <tr>\n",
       "      <th>2</th>\n",
       "      <td>001aaea6-3d14-43f1-8ca8-7f48820f17aa</td>\n",
       "      <td>4</td>\n",
       "      <td>2</td>\n",
       "      <td>2</td>\n",
       "      <td>0</td>\n",
       "      <td>churn</td>\n",
       "    </tr>\n",
       "    <tr>\n",
       "      <th>3</th>\n",
       "      <td>001d39dc-366c-4021-9604-6a3b9ff01e25</td>\n",
       "      <td>8</td>\n",
       "      <td>4</td>\n",
       "      <td>4</td>\n",
       "      <td>0</td>\n",
       "      <td>finished</td>\n",
       "    </tr>\n",
       "    <tr>\n",
       "      <th>4</th>\n",
       "      <td>002f508f-67b6-479f-814b-b05f00d4e995</td>\n",
       "      <td>12</td>\n",
       "      <td>3</td>\n",
       "      <td>8</td>\n",
       "      <td>1</td>\n",
       "      <td>churn</td>\n",
       "    </tr>\n",
       "  </tbody>\n",
       "</table>\n",
       "</div>"
      ],
      "text/plain": [
       "                                user_id  buildings  assembly_shops  \\\n",
       "0  0001f83c-c6ac-4621-b7f0-8a28b283ac30         13               6   \n",
       "1  00151b4f-ba38-44a8-a650-d7cf130a0105          9               4   \n",
       "2  001aaea6-3d14-43f1-8ca8-7f48820f17aa          4               2   \n",
       "3  001d39dc-366c-4021-9604-6a3b9ff01e25          8               4   \n",
       "4  002f508f-67b6-479f-814b-b05f00d4e995         12               3   \n",
       "\n",
       "   spaceports  research_centers    ending  \n",
       "0           6                 1     churn  \n",
       "1           5                 0     churn  \n",
       "2           2                 0     churn  \n",
       "3           4                 0  finished  \n",
       "4           8                 1     churn  "
      ]
     },
     "execution_count": 36,
     "metadata": {},
     "output_type": "execute_result"
    }
   ],
   "source": [
    "# для начала создадим таблицу с числом зданий в целом и детально для каждого игрока\n",
    "\n",
    "# временная таблица с развернутым столбцом building_type\n",
    "df = pd.get_dummies(game_actions[game_actions.event == 'building'], # оставим в событиях только постройки\n",
    "                    columns=['building_type'], prefix='', prefix_sep='')\n",
    "\n",
    "# объединим aggressive и constructive в finished\n",
    "df.loc[df.ending != 'churn', 'ending'] = 'finished'\n",
    "\n",
    "# для таблицы посчитаем число построек в общем и каждый тип построек в частности\n",
    "buildings = df.groupby('user_id', as_index=False).agg(buildings=('event', 'count'),\n",
    "                                                      assembly_shops=('assembly_shop', 'sum'),\n",
    "                                                      spaceports=('spaceport', 'sum'),\n",
    "                                                      research_centers=('research_center', 'sum'),\n",
    "                                                      ending=('ending', 'first'))\n",
    "\n",
    "# выведем первые 5 строк для проверки таблицы\n",
    "buildings.head()"
   ]
  },
  {
   "cell_type": "code",
   "execution_count": 37,
   "id": "f9828ae0",
   "metadata": {},
   "outputs": [
    {
     "data": {
      "image/png": "[encoded data removed]",
      "text/plain": [
       "<Figure size 936x432 with 1 Axes>"
      ]
     },
     "metadata": {},
     "output_type": "display_data"
    }
   ],
   "source": [
    "violin_for_winners('buildings', 'зданий')"
   ]
  },
  {
   "cell_type": "markdown",
   "id": "3e327173",
   "metadata": {},
   "source": [
    "Распределение \"оттекших\" шире, что логично, ведь в отток можно попасть в самом начале не построив ни одно здание. Распределение тех, кто прошел уровень, более собрано, т.к. чтобы пройти уровень сложно обойтись менее чем семью зданиями."
   ]
  },
  {
   "cell_type": "code",
   "execution_count": 38,
   "id": "21af58fa",
   "metadata": {},
   "outputs": [
    {
     "data": {
      "image/png": "[encoded data removed]",
      "text/plain": [
       "<Figure size 936x432 with 1 Axes>"
      ]
     },
     "metadata": {},
     "output_type": "display_data"
    }
   ],
   "source": [
    "violin_for_winners('assembly_shops', 'сборочных цехов')"
   ]
  },
  {
   "cell_type": "markdown",
   "id": "c9cced09",
   "metadata": {},
   "source": [
    "Можно подумать, что пользователи из оттока получили меньше сборочных цехов потому что ушли, но до этого мы видели, что пользователи из поздних когорт получили меньше этих зданий и также чаще попадают в отток. Так что тут можно сделать вывод, что число сборочных цехов в значительной мере определяет попадет ли пользователь в отток."
   ]
  },
  {
   "cell_type": "code",
   "execution_count": 39,
   "id": "49dc3d37",
   "metadata": {},
   "outputs": [
    {
     "data": {
      "image/png": "[encoded data removed]",
      "text/plain": [
       "<Figure size 936x432 with 1 Axes>"
      ]
     },
     "metadata": {},
     "output_type": "display_data"
    }
   ],
   "source": [
    "violin_for_winners('spaceports', 'космопортов')"
   ]
  },
  {
   "cell_type": "markdown",
   "id": "58ae56dd",
   "metadata": {},
   "source": [
    "Пользователи, завершившие уровень, строят больше космопортов."
   ]
  },
  {
   "cell_type": "code",
   "execution_count": 40,
   "id": "bd802106",
   "metadata": {},
   "outputs": [
    {
     "data": {
      "image/png": "[encoded data removed]",
      "text/plain": [
       "<Figure size 936x432 with 1 Axes>"
      ]
     },
     "metadata": {},
     "output_type": "display_data"
    }
   ],
   "source": [
    "violin_for_winners('research_centers', 'исследовательских центров')"
   ]
  },
  {
   "cell_type": "markdown",
   "id": "99f4e3d2",
   "metadata": {},
   "source": [
    "Большая часть игроков, попавших в отток, не строят исследователские центры."
   ]
  },
  {
   "cell_type": "markdown",
   "id": "88be7d85",
   "metadata": {},
   "source": [
    "### EDA. Выводы\n",
    "\n",
    "###### Продолжительность игры\n",
    "- Интенсивность событий возрастает с начала игры и к пятому дню достигает своего пика, что говорит о полной вовлеченности. Далее идет спад активности, что может говорить либо об оттоке, либо о завершении уровня.\n",
    "- Игроки проходят первый уровень в среднем от 6 до 20 дней. Средняя продолжительность прохождения первого уровня 13 дней.\n",
    "- Отточные пользователи уходят в основном между 5-м и 17-м днем. В среднем на 11-й день.\n",
    "- Они уходят не сразу, и их поведение близко к поведению завершивших 1-й уровень. Вероятно одна из причин оттока - столкновение с препятствием под конец уровня, вероятно, поражением от другого игрока.\n",
    "\n",
    "###### Этапы первого уровня\n",
    "Первый уровень можно разделить на 3 условных этапа:\n",
    "- **Эрлигейм** - с самого начала игры, в этот период игрок знакомится с игрой - проходит онбординг, понимает ее механики и втягивается в игру.\n",
    "- **Мидгейм** - игрок понимает что от него требуется в игре и начинает постройку космопортов. В основном космопорты строятся со 2-го по 7-й день игры, в среднем на 4-й день.\n",
    "- **Лейтгейм** - игрок близится к завершению уровня. Этот этап можно определить по постройке исследователских центров, которые в основном строятся между 6-м и 15-м днем игры, в среднем на 10-й день.\n",
    "\n",
    "###### Типы игроков\n",
    "**Продуктивные** - игроки завершающие первый уровень реализацией проекта.\n",
    "- В полтора раза больше, чем остальные игроки строят исследовательские центры.\n",
    "- Для полноценной реализации мирной стратегии необходимо 6 сборочных цехов, возможность ее реализации напрямую зависит от числа сборочных цехов.\n",
    "- В целом строят больше зданий.\n",
    "- Для завершения уровня им требуется больше времени.\n",
    "- Таким образом игроки этого типа могут увидеть больше рекламы на первом уровне, при варианте монетизации с показом на экране выбора постройки.\n",
    "\n",
    "    \n",
    "**Агрессивные** - игроки завершающие первый уровень победой над первым врагом.\n",
    "- Для полноценной реализации агрессивной стратегии необходимо 3 сборочных цеха.\n",
    "- Могут завершить игру без исследовательского центра.\n",
    "- Если под \"врагом\" понимается другой игрок попавший на ту же карту, то являются одной из причин высокого оттока, т.к. прохождение уровня в игре требует много времени.\n",
    "    \n",
    "    \n",
    "**Отточные** - игроки прервавшие игру.\n",
    "- Строят меньше всех зданий.\n",
    "- Вероятно большая их часть - это игроки побежденные агрессивной частью пользователей либо, если игра PvP характера.\n",
    "- Для них характерно меньшее число сборочных цехов. Пользователи из поздних когорт получили меньше этих зданий и чаще попадают в отток. Поэтому можно сделать вывод, что число сборочных цехов в значительной мере определяет попадет ли пользователь в отток. Например, пользователи с 1 сборочным цехом в 70% случаев попадает в отток, в 25% - заканчивает уровень с агрессивной тактикой и в 5% - с мирной, а пользователи с 6 сборочными цехами в 49% случаев попадает в отток, в 30% - заканчивает уровень с агрессивной тактикой и в 21% - с мирной.\n",
    "\n",
    "###### Сломанное строительство сборочных цехов\n",
    "- В данных было замечена необычная аномалия - число сборочных цехов построенных в игре на 1 день было около 1900 на протяжении первой недели, как раз в то время, когда проводились маркетинговые компании для представленных когорт. Возможно в этот период проводилась внутриигровая акция по удержанию клиентов с бесплатными зданиями выдаваемыми случайным игрокам. Этим объясняется строго определенное число зданий в день.\n",
    "- На это число не влияло количество пользователей или то на каком этапе они находились, а после окончания компаний по привлечению пользователей, число новых зданий свелось к нулю. Т.е. игроки не просто не хотели строить эти здания, а попросту не могли, потому что даже случайные постройки вследствии мисскликов в данных не наблюдаются.\n",
    "- Заметна корреляция между числом цехов и вероятностью оттока, т.е. данные полны и отображают действительность. И в самом деле мало приятного в игре с неполноценным геймплеем.\n",
    "- Невозможность самостоятельно построить эти здания не сломало полностью, т.к. большая часть игроков получила их в ходе случайной раздачи. Но с другой стороны мы не знаем о игроках, которые не получили этого первого здания, т.к. в наши логи они попросту не попали."
   ]
  },
  {
   "cell_type": "markdown",
   "id": "21ee2bd6",
   "metadata": {},
   "source": [
    "## Модель монетизации\n",
    "\n",
    "### Сравнение моделей монетизации\n",
    "\n",
    "Сравним перспективную прибыль разных моделей монетизации.\n",
    "\n",
    "У нас есть 3 предпологаемые модели:\n",
    "- Реклама на экране выбора постройки\n",
    "- Реклама при окончании уровня\n",
    "- Реклама по завершению проекта\n",
    "\n",
    "Поскольку мы не хотим утомить рекламой игроков, то выберем ту модель, которая просто окупает маркетинговые расходы в течении первого уровня, с расчетом на то, что в дальнейшем клиент продолжит приносить прибыль. \n",
    "\n",
    "Сразу можно заметить недостатки последних двух моделей. Реклама при окончании уровня показывается лишь раз и только тем игрокам, которые смогли его пройти, а реклама по завершению проекта еще сильнее ограничивает пул игроков, т.к. будет показана только тем, кто избрал мирный путь игры.\n",
    "\n",
    "Посчитаем сколько в переспективе нам дает реклама разных моделей без каких-либо ограничений."
   ]
  },
  {
   "cell_type": "code",
   "execution_count": 41,
   "id": "0c12361a",
   "metadata": {},
   "outputs": [
    {
     "data": {
      "image/png": "[encoded data removed]",
      "text/plain": [
       "<Figure size 936x432 with 1 Axes>"
      ]
     },
     "metadata": {},
     "output_type": "display_data"
    }
   ],
   "source": [
    "data = game_actions.groupby('event', as_index=False).event_datetime.count()\n",
    "data['income'] = data.event_datetime * .07\n",
    "\n",
    "sns.barplot(data=data, x='event', y='income')\n",
    "plt.title('Доход от рекламы для разных моделей без ограничений')\n",
    "plt.ylabel('Доход')\n",
    "plt.xlabel('Модель монетизации')\n",
    "plt.axhline(y=ad_costs.cost.sum(), color='red', linestyle='--', label='Затраты на привлечение')\n",
    "plt.legend()\n",
    "plt.show()"
   ]
  },
  {
   "cell_type": "markdown",
   "id": "e01bd230",
   "metadata": {},
   "source": [
    "Только одна модель может дать нам окупаемость - реклама при выборе постройки. Остальные модели вряд ли когда-либо смогут окупить затраты на привлечение."
   ]
  },
  {
   "cell_type": "markdown",
   "id": "0e6af973",
   "metadata": {},
   "source": [
    "### Определение момента, когда можно показывать рекламу\n",
    "\n",
    "Наша задача найти баланс между окупаемостью и надоедливостью. В первом случае мы будем ориентироваться на ROMI, а во втором будем следовать консенсусу о том, что игроку не стоит показывать рекламу когда он только знакомится с приложением.\n",
    "\n",
    "Показывать рекламу ориентируясь на наше разделение эрлигейм - мидгейм нельзя, т.к. показ рекламы в самом начале - это слишком рано, а в после постройки первого космопорта - слишком поздно, т.к. ROMI будет меньше 0%."
   ]
  },
  {
   "cell_type": "code",
   "execution_count": 42,
   "id": "b1b5d3ac",
   "metadata": {},
   "outputs": [
    {
     "data": {
      "text/plain": [
       "-18.73"
      ]
     },
     "execution_count": 42,
     "metadata": {},
     "output_type": "execute_result"
    }
   ],
   "source": [
    "# отдельный датафрейм с событиями по постройкам\n",
    "build_df = game_actions[game_actions.event == 'building'].reset_index(drop=True)\n",
    "# добавим счетчик построек для каждого игрока\n",
    "build_df['building_num'] = build_df.groupby('user_id').cumcount() + 1\n",
    "\n",
    "# Т.к. большая часть игроков строит первый космопорт к 4-му дню, то проверим как работает монетизация с этого дня.\n",
    "romi('lifetime >= 4')"
   ]
  },
  {
   "cell_type": "markdown",
   "id": "2d2c1477",
   "metadata": {},
   "source": [
    "Значит стоит ориентироваться на число дней проведенных в игре. Но не все игроки одинаково активны, поэтому стоит также добавить условие на количество построек возведенных пользователем. Для начала рассмотрим вариант с монетизацией после первой постройки."
   ]
  },
  {
   "cell_type": "code",
   "execution_count": 43,
   "id": "1c39cea3",
   "metadata": {},
   "outputs": [
    {
     "data": {
      "image/png": "[encoded data removed]",
      "text/plain": [
       "<Figure size 720x504 with 1 Axes>"
      ]
     },
     "metadata": {},
     "output_type": "display_data"
    }
   ],
   "source": [
    "plot_romi(4, 1)"
   ]
  },
  {
   "cell_type": "markdown",
   "id": "53813904",
   "metadata": {},
   "source": [
    "При данной системе можно включить монетизацию после первого дня, и тогда маркетинговые расходы окупятся на первом уровне."
   ]
  },
  {
   "cell_type": "code",
   "execution_count": 44,
   "id": "0936efef",
   "metadata": {
    "scrolled": false
   },
   "outputs": [
    {
     "data": {
      "image/png": "[encoded data removed]",
      "text/plain": [
       "<Figure size 720x504 with 1 Axes>"
      ]
     },
     "metadata": {},
     "output_type": "display_data"
    }
   ],
   "source": [
    "plot_romi(4, 2)"
   ]
  },
  {
   "cell_type": "markdown",
   "id": "ecf7dffe",
   "metadata": {},
   "source": [
    "Если включить монетизацию после второй постройки, то уже не получится окупить расходы на рекламу в первом уровне, так что остановимся на правиле:\n",
    "- **Монетизация включается если игрок построил 1 здание и закончил свой 1-й день игры и реализуется показом рекламы на экране выбора постройки.**"
   ]
  },
  {
   "cell_type": "markdown",
   "id": "a1b0c2d9",
   "metadata": {},
   "source": [
    "### Монетизация. Выводы\n",
    "\n",
    "- Из предложенных моделей монетизации может быть прибыльной лишь одна - с показом рекламы на экране выбора постройки. Для моделей с показом на экране завершения уровня или завершения проекта показать рекламу можно лишь единожды за уровень, и то не все игроки могут завершить уровень - большинство попадает в отток, и лишь доля тех, кто прошел уровень могут увидеть экран завершения проекта, т.к. некоторые завершают уровень победой над врагом.\n",
    "    \n",
    "    \n",
    "- Чтобы не затрагивать игроков проходящих этап онбординга установлено ограничение на момент включения монетизации. Предполагается, что за 1-й день игрок разбирается в игре, но не все играют в одинаковом темпе, поэтому вторым индикатором становится первое построенное здание. Именно такое правило помогает соблюсти баланс между назойливостью рекламы и окупаемостью маркетинга на первом уровне.\n",
    "    \n",
    "    \n",
    "###### Выбранная модель монетизации: \n",
    "    \n",
    "Монетизация включается если игрок построил 1 здание и закончил свой 1-й день игры и реализуется показом рекламы на экране выбора постройки."
   ]
  },
  {
   "cell_type": "markdown",
   "id": "8bc3232d",
   "metadata": {},
   "source": [
    "## Проверка статистических гипотез\n",
    "\n",
    "В ходе исследования мы выявили 2 группы пользователей, которые переходят на 2-й уровень:\n",
    "- **Продуктивные** - игроки завершающие первый уровень реализацией проекта.\n",
    "- **Агрессивные** - игроки завершающие первый уровень победой над первым врагом.\n",
    "\n",
    "Нам интересно отличаются ли они и для этого мы проверим 2 гипотезы:\n",
    "- Гипотеза различия времени прохождения уровня между пользователями с различными стилями игры.\n",
    "- Гипотеза различия числа показов рекламы между пользователями с различными стилями игры.\n",
    "\n",
    "Гипотезы будут проверяться тестом Манна-Уитни. Уровень критерия значимости примем равным 5%.\n",
    "\n",
    "Для проверки гипотез создадим таблицу с пользователями окончившими уровень их стилем игры, длительностью игры в днях и числом показов рекламы."
   ]
  },
  {
   "cell_type": "code",
   "execution_count": 45,
   "id": "c1f31faa",
   "metadata": {},
   "outputs": [
    {
     "data": {
      "text/html": [
       "<div>\n",
       "<style scoped>\n",
       "    .dataframe tbody tr th:only-of-type {\n",
       "        vertical-align: middle;\n",
       "    }\n",
       "\n",
       "    .dataframe tbody tr th {\n",
       "        vertical-align: top;\n",
       "    }\n",
       "\n",
       "    .dataframe thead th {\n",
       "        text-align: right;\n",
       "    }\n",
       "</style>\n",
       "<table border=\"1\" class=\"dataframe\">\n",
       "  <thead>\n",
       "    <tr style=\"text-align: right;\">\n",
       "      <th></th>\n",
       "      <th>user_id</th>\n",
       "      <th>lifestyle</th>\n",
       "      <th>lifetime</th>\n",
       "      <th>ads</th>\n",
       "    </tr>\n",
       "  </thead>\n",
       "  <tbody>\n",
       "    <tr>\n",
       "      <th>0</th>\n",
       "      <td>001d39dc-366c-4021-9604-6a3b9ff01e25</td>\n",
       "      <td>aggressive</td>\n",
       "      <td>8</td>\n",
       "      <td>7</td>\n",
       "    </tr>\n",
       "    <tr>\n",
       "      <th>1</th>\n",
       "      <td>003ee7e8-6356-4286-a715-62f22a18d2a1</td>\n",
       "      <td>aggressive</td>\n",
       "      <td>13</td>\n",
       "      <td>5</td>\n",
       "    </tr>\n",
       "    <tr>\n",
       "      <th>2</th>\n",
       "      <td>004074f8-251a-4776-922c-8348dca1a2f6</td>\n",
       "      <td>aggressive</td>\n",
       "      <td>13</td>\n",
       "      <td>10</td>\n",
       "    </tr>\n",
       "    <tr>\n",
       "      <th>3</th>\n",
       "      <td>00464e5e-28ed-4be6-bf44-517ef7b3937b</td>\n",
       "      <td>aggressive</td>\n",
       "      <td>12</td>\n",
       "      <td>7</td>\n",
       "    </tr>\n",
       "    <tr>\n",
       "      <th>4</th>\n",
       "      <td>0056c007-c082-43cc-bdef-afc49bca4cb9</td>\n",
       "      <td>aggressive</td>\n",
       "      <td>7</td>\n",
       "      <td>2</td>\n",
       "    </tr>\n",
       "  </tbody>\n",
       "</table>\n",
       "</div>"
      ],
      "text/plain": [
       "                                user_id   lifestyle  lifetime  ads\n",
       "0  001d39dc-366c-4021-9604-6a3b9ff01e25  aggressive         8    7\n",
       "1  003ee7e8-6356-4286-a715-62f22a18d2a1  aggressive        13    5\n",
       "2  004074f8-251a-4776-922c-8348dca1a2f6  aggressive        13   10\n",
       "3  00464e5e-28ed-4be6-bf44-517ef7b3937b  aggressive        12    7\n",
       "4  0056c007-c082-43cc-bdef-afc49bca4cb9  aggressive         7    2"
      ]
     },
     "execution_count": 45,
     "metadata": {},
     "output_type": "execute_result"
    }
   ],
   "source": [
    "# таблица с игроками, их типом игры и последним днем игры\n",
    "hypo_df = game_actions[game_actions.ending != 'churn'].groupby('user_id', as_index=False)\\\n",
    "                                                      .agg(lifestyle=('ending', 'first'),\n",
    "                                                           lifetime=('lifetime', 'last'))\n",
    "\n",
    "# используем таблицу со зданиями из прошлого этапа, и посчитаем число показов рекламы\n",
    "# реклама показывается после 1-го дня и 1-й постройки\n",
    "ads = build_df[(build_df.lifetime > 1) & (build_df.building_num > 1)]\\\n",
    "              .groupby('user_id', as_index=False).agg(ads=('building_type', 'count'))\n",
    "\n",
    "# смержим по левой таблице, чтобы не потерять тех, кто без рекламы\n",
    "hypo_df = hypo_df.merge(ads, on='user_id', how='left')\n",
    "\n",
    "# заполним пропуски нулями и приведем столбец к типу int\n",
    "hypo_df = hypo_df.fillna(0)\n",
    "hypo_df.ads = hypo_df.ads.astype('int')\n",
    "\n",
    "hypo_df.head()"
   ]
  },
  {
   "cell_type": "markdown",
   "id": "40f0bb24",
   "metadata": {},
   "source": [
    "### Гипотеза различия времени прохождения уровня между пользователями с различными стилями игры\n",
    "\n",
    "0. **Нулевая гипотеза:** Среднее время прохождения уровня игроков продуктивной группы равна среднему времени прохождения уровня игроков агрессивной группы.\n",
    "0. **Альтернативная гипотеза:** Среднее время прохождения уровня игроков продуктивной группы не равна среднему времени прохождения уровня игроков агрессивной группы."
   ]
  },
  {
   "cell_type": "code",
   "execution_count": 46,
   "id": "a41b2925",
   "metadata": {},
   "outputs": [
    {
     "name": "stdout",
     "output_type": "stream",
     "text": [
      "p-value:  4.7866103584542195e-105\n",
      "Отвергаем нулевую гипотезу\n",
      "\n",
      "Средний lifetime для группы constructive: 14.4\n",
      "Средний lifetime для группы aggressive: 12.06\n",
      "Относительная разница: 19.4%\n"
     ]
    }
   ],
   "source": [
    "hypothesting(hypo_df, 'lifetime')"
   ]
  },
  {
   "cell_type": "markdown",
   "id": "4ef01ae2",
   "metadata": {},
   "source": [
    "Среднее время прохождения уровня игроков завершающие первый уровень реализацией проекта больше на 20%."
   ]
  },
  {
   "cell_type": "markdown",
   "id": "7fd75717",
   "metadata": {},
   "source": [
    "### Гипотеза различия числа показов рекламы между пользователями с различными стилями игры\n",
    "\n",
    "0. **Нулевая гипотеза:** Среднее число показов рекламы для игроков продуктивной группы равна среднему числу показов рекламы для игроков агрессивной группы.\n",
    "0. **Альтернативная гипотеза:** Среднее число показов рекламы для игроков продуктивной группы не равна среднему числу показов рекламы для игроков агрессивной группы."
   ]
  },
  {
   "cell_type": "code",
   "execution_count": 47,
   "id": "12304d46",
   "metadata": {},
   "outputs": [
    {
     "name": "stdout",
     "output_type": "stream",
     "text": [
      "p-value:  2.9408555703933246e-288\n",
      "Отвергаем нулевую гипотезу\n",
      "\n",
      "Средний ads для группы constructive: 11.17\n",
      "Средний ads для группы aggressive: 8.02\n",
      "Относительная разница: 39.3%\n"
     ]
    }
   ],
   "source": [
    "hypothesting(hypo_df, 'ads')"
   ]
  },
  {
   "cell_type": "markdown",
   "id": "69d2497c",
   "metadata": {},
   "source": [
    "Число показов рекламы для \"мирной\" группы значительно больше, чем для \"агрессивной\""
   ]
  },
  {
   "cell_type": "markdown",
   "id": "1944b8b8",
   "metadata": {},
   "source": [
    "### Проверка гипотез. Выводы\n",
    "\n",
    "Игроки завершающие первый уровень реализацией проекта проходят первый уровень на 20% дольше, чем те, которые завершаю уровень победой над врагом. С одной стороны они из-за этого имеют больший риск оттока, но с другой им можно показать на 39% больше рекламы в рамках предполагаемой монетизации."
   ]
  },
  {
   "cell_type": "markdown",
   "id": "5a6e1f7d",
   "metadata": {},
   "source": [
    "## Итоги исследования"
   ]
  },
  {
   "cell_type": "markdown",
   "id": "c42a792a",
   "metadata": {},
   "source": [
    "###### Модель монетизации:\n",
    "\n",
    "1. **Монетизация включается если игрок построил 1 здание и закончил свой 1-й день игры и реализуется показом рекламы на экране выбора постройки.**\n",
    "1. Такая модель способна окупать маркетинговые расходы на этапе первого уровня.\n",
    "1. Также она позволяет игрокам пройти этап онбординга без раздражающего фактора в виде рекламы."
   ]
  },
  {
   "cell_type": "markdown",
   "id": "31dafcd7",
   "metadata": {},
   "source": [
    "###### Описание игроков\n",
    "1. **Продуктивные** - игроки завершающие первый уровень реализацией проекта. Наиболее выгодные с экономической точки зрения игроки, т.к. строят больше зданий, а значит и смотрят больше рекламы. Наиболее активны при числе сборочных цехов в 6 штук.\n",
    "1. **Агрессивные** - игроки завершающие первый уровень победой над первым врагом. Если под \"врагом\" понимается другой игрок попавший на ту же карту, то являются одной из причин высокого оттока, т.к. прохождение уровня в игре требует много времени.\n",
    "1. **Отточные** - игроки прервавшие игру. Зачастую это связано с малым числом сборочных цехов у игрока. Уходят в основном между 5-м и 17-м днем. В среднем на 11-й день. Их поведение близко к поведению завершивших 1-й уровень. Вероятно одна из причин оттока - столкновение с препятствием под конец уровня, вероятно, поражением от другого игрока.\n",
    "1. Игроки проходят первый уровень в среднем от 6 до 20 дней. Средняя продолжительность прохождения первого уровня 13 дней."
   ]
  },
  {
   "cell_type": "markdown",
   "id": "8320c456",
   "metadata": {},
   "source": [
    "###### Этапы первого уровня\n",
    "1. **Эрлигейм** - с самого начала игры, в этот период игрок знакомится с игрой - проходит онбординг, понимает ее механики и втягивается в игру.\n",
    "1. **Мидгейм** - игрок понимает что от него требуется в игре и начинает постройку космопортов. В основном космопорты строятся со 2-го по 7-й день игры, в среднем на 4-й день.\n",
    "1. **Лейтгейм** - игрок близится к завершению уровня. Этот этап можно определить по постройке исследователских центров, которые в основном строятся между 6-м и 15-м днем игры, в среднем на 10-й день."
   ]
  },
  {
   "cell_type": "markdown",
   "id": "65402dff",
   "metadata": {},
   "source": [
    "###### Сломанное строительство сборочных цехов\n",
    "- В игре не работает постройка сборочных цехов, все что есть у игроков - это здания полученные в самом начале при помощи рандомной раздачи. Это сильно влияет на геймплей, вероятность оттока пользователя и на то, какую стратегию он изберет."
   ]
  },
  {
   "cell_type": "markdown",
   "id": "2a0ee47c",
   "metadata": {},
   "source": [
    "###### Рекомендации:\n",
    "1. Починить постройку сборочных цехов. Эти здания - важный геймплейный элемент, который определяет пользовательский опыт.\n",
    "1. Поощрять игроков выбирающий мирный путь игры, т.к. они смотрят на 39% больше рекламы. Наибольшую активность данные пользователи проявляют с шестью сборочными цехами. Это число является достаточным, поэтому его увеличение сверх шести не приводит увеличению активности мирных пользователей.\n",
    "1. Отсюда вытекает следующая рекомендация: дарить сборочные цеха активным пользователям, у которых число сборочных цехов меньше 6, или упростить их постройку. Это поощряет мирное развитие, а следовательно и повышает число показов рекламы."
   ]
  }
 ],
 "metadata": {
  "ExecuteTimeLog": [
   {
    "duration": 1252,
    "start_time": "2022-07-24T11:01:17.415Z"
   },
   {
    "duration": 13,
    "start_time": "2022-07-24T11:01:18.669Z"
   },
   {
    "duration": 566,
    "start_time": "2022-07-24T11:01:18.683Z"
   },
   {
    "duration": 112,
    "start_time": "2022-07-24T11:01:19.253Z"
   },
   {
    "duration": 296,
    "start_time": "2022-07-24T11:01:19.367Z"
   },
   {
    "duration": 178,
    "start_time": "2022-07-24T11:01:19.665Z"
   },
   {
    "duration": 83,
    "start_time": "2022-07-24T11:01:19.845Z"
   },
   {
    "duration": 36,
    "start_time": "2022-07-24T11:01:19.929Z"
   },
   {
    "duration": 58,
    "start_time": "2022-07-24T11:01:19.967Z"
   },
   {
    "duration": 46,
    "start_time": "2022-07-24T11:01:20.028Z"
   },
   {
    "duration": 348,
    "start_time": "2022-07-24T11:01:20.077Z"
   },
   {
    "duration": 44,
    "start_time": "2022-07-24T11:01:20.427Z"
   },
   {
    "duration": 82,
    "start_time": "2022-07-24T11:01:20.473Z"
   },
   {
    "duration": 114,
    "start_time": "2022-07-24T11:01:20.557Z"
   },
   {
    "duration": 2352,
    "start_time": "2022-07-24T11:01:20.724Z"
   },
   {
    "duration": 1664,
    "start_time": "2022-07-24T11:01:23.078Z"
   },
   {
    "duration": 303,
    "start_time": "2022-07-24T11:01:24.744Z"
   },
   {
    "duration": 52,
    "start_time": "2022-07-24T11:01:25.049Z"
   },
   {
    "duration": 258,
    "start_time": "2022-07-24T11:01:25.102Z"
   },
   {
    "duration": 83,
    "start_time": "2022-07-24T11:01:25.362Z"
   },
   {
    "duration": 171,
    "start_time": "2022-07-24T11:01:25.448Z"
   },
   {
    "duration": 68,
    "start_time": "2022-07-24T11:01:25.624Z"
   },
   {
    "duration": 1805,
    "start_time": "2022-07-24T11:01:25.694Z"
   },
   {
    "duration": 48,
    "start_time": "2022-07-24T11:01:27.501Z"
   },
   {
    "duration": 815,
    "start_time": "2022-07-24T11:01:27.552Z"
   },
   {
    "duration": 277,
    "start_time": "2022-07-24T11:01:28.368Z"
   },
   {
    "duration": 13,
    "start_time": "2022-07-24T11:01:28.647Z"
   },
   {
    "duration": 231,
    "start_time": "2022-07-24T11:01:28.663Z"
   },
   {
    "duration": 100,
    "start_time": "2022-07-24T11:01:28.896Z"
   },
   {
    "duration": 665,
    "start_time": "2022-07-24T11:01:28.998Z"
   },
   {
    "duration": 241,
    "start_time": "2022-07-24T11:01:29.666Z"
   },
   {
    "duration": 48,
    "start_time": "2022-07-24T11:01:29.909Z"
   },
   {
    "duration": 653,
    "start_time": "2022-07-24T11:01:29.959Z"
   },
   {
    "duration": 32,
    "start_time": "2022-07-24T11:01:30.614Z"
   },
   {
    "duration": 95,
    "start_time": "2022-07-24T11:01:30.648Z"
   },
   {
    "duration": 133,
    "start_time": "2022-07-24T11:01:30.745Z"
   },
   {
    "duration": 185,
    "start_time": "2022-07-24T11:01:30.881Z"
   },
   {
    "duration": 202,
    "start_time": "2022-07-24T11:01:31.069Z"
   },
   {
    "duration": 178,
    "start_time": "2022-07-24T11:01:31.273Z"
   },
   {
    "duration": 196,
    "start_time": "2022-07-24T11:01:31.453Z"
   },
   {
    "duration": 239,
    "start_time": "2022-07-24T11:01:31.651Z"
   },
   {
    "duration": 101,
    "start_time": "2022-07-24T11:01:31.892Z"
   },
   {
    "duration": 291,
    "start_time": "2022-07-24T11:01:31.995Z"
   },
   {
    "duration": 193,
    "start_time": "2022-07-24T11:01:32.288Z"
   },
   {
    "duration": 107,
    "start_time": "2022-07-24T11:01:32.483Z"
   },
   {
    "duration": 11,
    "start_time": "2022-07-24T11:01:32.591Z"
   },
   {
    "duration": 22,
    "start_time": "2022-07-24T11:01:32.603Z"
   },
   {
    "duration": 90,
    "start_time": "2022-07-24T11:15:13.566Z"
   },
   {
    "duration": 15,
    "start_time": "2022-07-24T11:38:25.921Z"
   },
   {
    "duration": 23,
    "start_time": "2022-07-24T11:40:28.586Z"
   },
   {
    "duration": 17,
    "start_time": "2022-07-24T11:40:37.925Z"
   },
   {
    "duration": 29,
    "start_time": "2022-07-24T11:41:04.480Z"
   },
   {
    "duration": 33,
    "start_time": "2022-07-24T11:41:54.406Z"
   },
   {
    "duration": 37,
    "start_time": "2022-07-24T11:51:09.548Z"
   },
   {
    "duration": 40,
    "start_time": "2022-07-24T11:51:28.439Z"
   },
   {
    "duration": 1648,
    "start_time": "2022-07-24T11:53:10.232Z"
   },
   {
    "duration": 3148,
    "start_time": "2022-07-24T11:54:12.164Z"
   },
   {
    "duration": 1769,
    "start_time": "2022-07-24T11:54:31.460Z"
   },
   {
    "duration": 1817,
    "start_time": "2022-07-24T11:55:31.513Z"
   },
   {
    "duration": 730,
    "start_time": "2022-07-24T11:56:03.811Z"
   },
   {
    "duration": 146,
    "start_time": "2022-07-24T11:57:06.183Z"
   },
   {
    "duration": 39,
    "start_time": "2022-07-24T11:57:11.631Z"
   },
   {
    "duration": 33,
    "start_time": "2022-07-24T11:58:08.671Z"
   },
   {
    "duration": 33,
    "start_time": "2022-07-24T11:58:33.702Z"
   },
   {
    "duration": 95,
    "start_time": "2022-07-24T11:58:45.341Z"
   },
   {
    "duration": 37,
    "start_time": "2022-07-24T11:58:56.526Z"
   },
   {
    "duration": 5,
    "start_time": "2022-07-24T12:00:08.239Z"
   },
   {
    "duration": 23,
    "start_time": "2022-07-24T12:00:12.723Z"
   },
   {
    "duration": 37,
    "start_time": "2022-07-24T12:00:18.926Z"
   },
   {
    "duration": 25,
    "start_time": "2022-07-24T12:00:33.164Z"
   },
   {
    "duration": 40,
    "start_time": "2022-07-24T12:00:46.606Z"
   },
   {
    "duration": 30,
    "start_time": "2022-07-24T12:00:58.023Z"
   },
   {
    "duration": 35,
    "start_time": "2022-07-24T12:01:04.854Z"
   },
   {
    "duration": 23,
    "start_time": "2022-07-24T12:02:24.652Z"
   },
   {
    "duration": 49,
    "start_time": "2022-07-24T12:02:54.572Z"
   },
   {
    "duration": 51,
    "start_time": "2022-07-24T12:03:40.663Z"
   },
   {
    "duration": 41,
    "start_time": "2022-07-24T12:03:53.602Z"
   },
   {
    "duration": 131,
    "start_time": "2022-07-24T12:04:54.201Z"
   },
   {
    "duration": 33,
    "start_time": "2022-07-24T12:04:57.526Z"
   },
   {
    "duration": 33,
    "start_time": "2022-07-24T12:05:45.130Z"
   },
   {
    "duration": 32,
    "start_time": "2022-07-24T12:05:52.286Z"
   },
   {
    "duration": 113,
    "start_time": "2022-07-24T12:13:46.402Z"
   },
   {
    "duration": 79,
    "start_time": "2022-07-24T12:13:53.721Z"
   },
   {
    "duration": 2564,
    "start_time": "2022-07-24T12:14:02.583Z"
   },
   {
    "duration": 2411,
    "start_time": "2022-07-24T12:14:19.549Z"
   },
   {
    "duration": 2646,
    "start_time": "2022-07-24T12:14:31.896Z"
   },
   {
    "duration": 19,
    "start_time": "2022-07-24T12:14:53.085Z"
   },
   {
    "duration": 14,
    "start_time": "2022-07-24T12:15:16.761Z"
   },
   {
    "duration": 1362,
    "start_time": "2022-07-24T12:30:34.101Z"
   },
   {
    "duration": 1746,
    "start_time": "2022-07-24T12:31:16.449Z"
   },
   {
    "duration": 16,
    "start_time": "2022-07-24T12:31:28.050Z"
   },
   {
    "duration": 24,
    "start_time": "2022-07-24T12:31:50.250Z"
   },
   {
    "duration": 23,
    "start_time": "2022-07-24T12:32:24.612Z"
   },
   {
    "duration": 17,
    "start_time": "2022-07-24T12:32:37.386Z"
   },
   {
    "duration": 29,
    "start_time": "2022-07-24T12:32:41.349Z"
   },
   {
    "duration": 37,
    "start_time": "2022-07-24T12:32:59.713Z"
   },
   {
    "duration": 17,
    "start_time": "2022-07-24T12:33:09.847Z"
   },
   {
    "duration": 16,
    "start_time": "2022-07-24T12:33:24.389Z"
   },
   {
    "duration": 40,
    "start_time": "2022-07-24T12:33:57.420Z"
   },
   {
    "duration": 80,
    "start_time": "2022-07-24T12:34:28.148Z"
   },
   {
    "duration": 94,
    "start_time": "2022-07-24T12:34:32.665Z"
   },
   {
    "duration": 28,
    "start_time": "2022-07-24T12:34:42.050Z"
   },
   {
    "duration": 20,
    "start_time": "2022-07-24T12:35:05.110Z"
   },
   {
    "duration": 25,
    "start_time": "2022-07-24T12:35:12.464Z"
   },
   {
    "duration": 24,
    "start_time": "2022-07-24T12:35:29.260Z"
   },
   {
    "duration": 27,
    "start_time": "2022-07-24T12:35:34.781Z"
   },
   {
    "duration": 45,
    "start_time": "2022-07-24T12:35:39.149Z"
   },
   {
    "duration": 19,
    "start_time": "2022-07-24T12:36:10.002Z"
   },
   {
    "duration": 25,
    "start_time": "2022-07-24T12:36:14.718Z"
   },
   {
    "duration": 28,
    "start_time": "2022-07-24T12:36:18.945Z"
   },
   {
    "duration": 47,
    "start_time": "2022-07-24T12:36:36.816Z"
   },
   {
    "duration": 22,
    "start_time": "2022-07-24T12:37:17.466Z"
   },
   {
    "duration": 53,
    "start_time": "2022-07-24T12:46:58.067Z"
   },
   {
    "duration": 84,
    "start_time": "2022-07-24T12:47:24.024Z"
   },
   {
    "duration": 63,
    "start_time": "2022-07-24T12:47:50.039Z"
   },
   {
    "duration": 73,
    "start_time": "2022-07-24T12:48:05.401Z"
   },
   {
    "duration": 59,
    "start_time": "2022-07-24T12:48:33.739Z"
   },
   {
    "duration": 63,
    "start_time": "2022-07-24T12:48:50.330Z"
   },
   {
    "duration": 22,
    "start_time": "2022-07-24T12:49:36.088Z"
   },
   {
    "duration": 20,
    "start_time": "2022-07-24T12:49:49.439Z"
   },
   {
    "duration": 487,
    "start_time": "2022-07-24T12:50:10.666Z"
   },
   {
    "duration": 637,
    "start_time": "2022-07-24T12:50:23.113Z"
   },
   {
    "duration": 63,
    "start_time": "2022-07-24T12:50:40.347Z"
   },
   {
    "duration": 65,
    "start_time": "2022-07-24T12:51:00.290Z"
   },
   {
    "duration": 64,
    "start_time": "2022-07-24T12:51:40.364Z"
   },
   {
    "duration": 2364,
    "start_time": "2022-07-24T12:51:46.141Z"
   },
   {
    "duration": 6429,
    "start_time": "2022-07-24T12:52:16.603Z"
   },
   {
    "duration": 6545,
    "start_time": "2022-07-24T12:52:56.011Z"
   },
   {
    "duration": 24,
    "start_time": "2022-07-24T12:53:05.162Z"
   },
   {
    "duration": 434,
    "start_time": "2022-07-24T12:55:10.164Z"
   },
   {
    "duration": 51,
    "start_time": "2022-07-24T12:55:34.948Z"
   },
   {
    "duration": 29,
    "start_time": "2022-07-24T12:55:36.418Z"
   },
   {
    "duration": 28,
    "start_time": "2022-07-24T12:55:59.767Z"
   },
   {
    "duration": 57,
    "start_time": "2022-07-24T12:56:11.995Z"
   },
   {
    "duration": 71,
    "start_time": "2022-07-24T12:56:17.139Z"
   },
   {
    "duration": 34,
    "start_time": "2022-07-24T12:56:17.308Z"
   },
   {
    "duration": 75,
    "start_time": "2022-07-24T12:57:46.839Z"
   },
   {
    "duration": 61,
    "start_time": "2022-07-24T12:58:09.375Z"
   },
   {
    "duration": 31,
    "start_time": "2022-07-24T12:58:11.276Z"
   },
   {
    "duration": 54,
    "start_time": "2022-07-24T12:58:18.387Z"
   },
   {
    "duration": 28,
    "start_time": "2022-07-24T12:58:18.860Z"
   },
   {
    "duration": 78,
    "start_time": "2022-07-24T12:58:37.499Z"
   },
   {
    "duration": 52,
    "start_time": "2022-07-24T12:58:41.975Z"
   },
   {
    "duration": 27,
    "start_time": "2022-07-24T12:58:43.614Z"
   },
   {
    "duration": 67,
    "start_time": "2022-07-24T12:58:52.890Z"
   },
   {
    "duration": 25,
    "start_time": "2022-07-24T12:58:54.038Z"
   },
   {
    "duration": 68,
    "start_time": "2022-07-24T12:59:27.424Z"
   },
   {
    "duration": 21,
    "start_time": "2022-07-24T12:59:27.947Z"
   },
   {
    "duration": 61,
    "start_time": "2022-07-24T12:59:59.365Z"
   },
   {
    "duration": 22,
    "start_time": "2022-07-24T13:00:02.142Z"
   },
   {
    "duration": 63,
    "start_time": "2022-07-24T13:00:22.415Z"
   },
   {
    "duration": 54,
    "start_time": "2022-07-24T13:00:37.560Z"
   },
   {
    "duration": 52,
    "start_time": "2022-07-24T13:01:04.306Z"
   },
   {
    "duration": 23,
    "start_time": "2022-07-24T13:01:05.075Z"
   },
   {
    "duration": 12,
    "start_time": "2022-07-24T13:01:29.941Z"
   },
   {
    "duration": 13,
    "start_time": "2022-07-24T13:01:36.367Z"
   },
   {
    "duration": 100,
    "start_time": "2022-07-24T13:01:59.868Z"
   },
   {
    "duration": 165,
    "start_time": "2022-07-24T13:02:04.181Z"
   },
   {
    "duration": 1605,
    "start_time": "2022-07-24T13:02:07.414Z"
   },
   {
    "duration": 30,
    "start_time": "2022-07-24T13:02:16.111Z"
   },
   {
    "duration": 1183,
    "start_time": "2022-07-24T13:03:24.727Z"
   },
   {
    "duration": 22,
    "start_time": "2022-07-24T13:03:25.912Z"
   },
   {
    "duration": 442,
    "start_time": "2022-07-24T13:03:25.936Z"
   },
   {
    "duration": 82,
    "start_time": "2022-07-24T13:03:26.382Z"
   },
   {
    "duration": 109,
    "start_time": "2022-07-24T13:03:26.466Z"
   },
   {
    "duration": 172,
    "start_time": "2022-07-24T13:03:26.577Z"
   },
   {
    "duration": 27,
    "start_time": "2022-07-24T13:03:26.751Z"
   },
   {
    "duration": 26,
    "start_time": "2022-07-24T13:03:26.779Z"
   },
   {
    "duration": 19,
    "start_time": "2022-07-24T13:03:26.823Z"
   },
   {
    "duration": 13,
    "start_time": "2022-07-24T13:03:26.845Z"
   },
   {
    "duration": 142,
    "start_time": "2022-07-24T13:03:26.860Z"
   },
   {
    "duration": 40,
    "start_time": "2022-07-24T13:03:27.003Z"
   },
   {
    "duration": 18,
    "start_time": "2022-07-24T13:03:27.045Z"
   },
   {
    "duration": 71,
    "start_time": "2022-07-24T13:03:27.065Z"
   },
   {
    "duration": 1051,
    "start_time": "2022-07-24T13:03:27.140Z"
   },
   {
    "duration": 1697,
    "start_time": "2022-07-24T13:03:28.193Z"
   },
   {
    "duration": 246,
    "start_time": "2022-07-24T13:03:29.892Z"
   },
   {
    "duration": 54,
    "start_time": "2022-07-24T13:03:30.139Z"
   },
   {
    "duration": 267,
    "start_time": "2022-07-24T13:03:30.195Z"
   },
   {
    "duration": 87,
    "start_time": "2022-07-24T13:03:30.464Z"
   },
   {
    "duration": 189,
    "start_time": "2022-07-24T13:03:30.553Z"
   },
   {
    "duration": 82,
    "start_time": "2022-07-24T13:03:30.744Z"
   },
   {
    "duration": 1648,
    "start_time": "2022-07-24T13:03:30.841Z"
   },
   {
    "duration": 36,
    "start_time": "2022-07-24T13:03:32.490Z"
   },
   {
    "duration": 815,
    "start_time": "2022-07-24T13:03:32.527Z"
   },
   {
    "duration": 283,
    "start_time": "2022-07-24T13:03:33.346Z"
   },
   {
    "duration": 17,
    "start_time": "2022-07-24T13:03:33.630Z"
   },
   {
    "duration": 216,
    "start_time": "2022-07-24T13:03:33.651Z"
   },
   {
    "duration": 76,
    "start_time": "2022-07-24T13:03:33.869Z"
   },
   {
    "duration": 569,
    "start_time": "2022-07-24T13:03:33.947Z"
   },
   {
    "duration": 214,
    "start_time": "2022-07-24T13:03:34.523Z"
   },
   {
    "duration": 51,
    "start_time": "2022-07-24T13:03:34.739Z"
   },
   {
    "duration": 690,
    "start_time": "2022-07-24T13:03:34.791Z"
   },
   {
    "duration": 26,
    "start_time": "2022-07-24T13:03:35.483Z"
   },
   {
    "duration": 82,
    "start_time": "2022-07-24T13:03:35.524Z"
   },
   {
    "duration": 137,
    "start_time": "2022-07-24T13:03:35.608Z"
   },
   {
    "duration": 166,
    "start_time": "2022-07-24T13:03:35.747Z"
   },
   {
    "duration": 193,
    "start_time": "2022-07-24T13:03:35.915Z"
   },
   {
    "duration": 173,
    "start_time": "2022-07-24T13:03:36.110Z"
   },
   {
    "duration": 172,
    "start_time": "2022-07-24T13:03:36.285Z"
   },
   {
    "duration": 233,
    "start_time": "2022-07-24T13:03:36.458Z"
   },
   {
    "duration": 84,
    "start_time": "2022-07-24T13:03:36.693Z"
   },
   {
    "duration": 63,
    "start_time": "2022-07-24T13:03:36.779Z"
   },
   {
    "duration": 22,
    "start_time": "2022-07-24T13:03:36.843Z"
   },
   {
    "duration": 288,
    "start_time": "2022-07-24T13:03:36.866Z"
   },
   {
    "duration": 192,
    "start_time": "2022-07-24T13:03:37.156Z"
   },
   {
    "duration": 106,
    "start_time": "2022-07-24T13:03:37.350Z"
   },
   {
    "duration": 9,
    "start_time": "2022-07-24T13:03:37.458Z"
   },
   {
    "duration": 10,
    "start_time": "2022-07-24T13:03:37.468Z"
   },
   {
    "duration": 9,
    "start_time": "2022-07-24T13:20:25.932Z"
   },
   {
    "duration": 51,
    "start_time": "2022-07-24T13:20:43.558Z"
   },
   {
    "duration": 1317,
    "start_time": "2022-07-24T13:23:58.278Z"
   },
   {
    "duration": 12,
    "start_time": "2022-07-24T13:23:59.597Z"
   },
   {
    "duration": 1021,
    "start_time": "2022-07-24T13:23:59.612Z"
   },
   {
    "duration": 106,
    "start_time": "2022-07-24T13:24:00.636Z"
   },
   {
    "duration": 192,
    "start_time": "2022-07-24T13:24:00.744Z"
   },
   {
    "duration": 301,
    "start_time": "2022-07-24T13:24:00.938Z"
   },
   {
    "duration": 103,
    "start_time": "2022-07-24T13:24:01.241Z"
   },
   {
    "duration": 82,
    "start_time": "2022-07-24T13:24:01.347Z"
   },
   {
    "duration": 11,
    "start_time": "2022-07-24T13:24:01.430Z"
   },
   {
    "duration": 20,
    "start_time": "2022-07-24T13:24:01.444Z"
   },
   {
    "duration": 159,
    "start_time": "2022-07-24T13:24:01.466Z"
   },
   {
    "duration": 31,
    "start_time": "2022-07-24T13:24:01.627Z"
   },
   {
    "duration": 29,
    "start_time": "2022-07-24T13:24:01.660Z"
   },
   {
    "duration": 70,
    "start_time": "2022-07-24T13:24:01.690Z"
   },
   {
    "duration": 1058,
    "start_time": "2022-07-24T13:24:01.763Z"
   },
   {
    "duration": 1715,
    "start_time": "2022-07-24T13:24:02.823Z"
   },
   {
    "duration": 263,
    "start_time": "2022-07-24T13:24:04.542Z"
   },
   {
    "duration": 66,
    "start_time": "2022-07-24T13:24:04.807Z"
   },
   {
    "duration": 251,
    "start_time": "2022-07-24T13:24:04.876Z"
   },
   {
    "duration": 72,
    "start_time": "2022-07-24T13:24:05.129Z"
   },
   {
    "duration": 185,
    "start_time": "2022-07-24T13:24:05.203Z"
   },
   {
    "duration": 76,
    "start_time": "2022-07-24T13:24:05.390Z"
   },
   {
    "duration": 1568,
    "start_time": "2022-07-24T13:24:05.467Z"
   },
   {
    "duration": 21,
    "start_time": "2022-07-24T13:24:07.037Z"
   },
   {
    "duration": 850,
    "start_time": "2022-07-24T13:24:07.060Z"
   },
   {
    "duration": 287,
    "start_time": "2022-07-24T13:24:07.913Z"
   },
   {
    "duration": 22,
    "start_time": "2022-07-24T13:24:08.202Z"
   },
   {
    "duration": 193,
    "start_time": "2022-07-24T13:24:08.228Z"
   },
   {
    "duration": 68,
    "start_time": "2022-07-24T13:24:08.423Z"
   },
   {
    "duration": 573,
    "start_time": "2022-07-24T13:24:08.493Z"
   },
   {
    "duration": 189,
    "start_time": "2022-07-24T13:24:09.068Z"
   },
   {
    "duration": 35,
    "start_time": "2022-07-24T13:24:09.259Z"
   },
   {
    "duration": 610,
    "start_time": "2022-07-24T13:24:09.296Z"
   },
   {
    "duration": 38,
    "start_time": "2022-07-24T13:24:09.908Z"
   },
   {
    "duration": 92,
    "start_time": "2022-07-24T13:24:09.947Z"
   },
   {
    "duration": 122,
    "start_time": "2022-07-24T13:24:10.041Z"
   },
   {
    "duration": 159,
    "start_time": "2022-07-24T13:24:10.165Z"
   },
   {
    "duration": 176,
    "start_time": "2022-07-24T13:24:10.326Z"
   },
   {
    "duration": 149,
    "start_time": "2022-07-24T13:24:10.504Z"
   },
   {
    "duration": 156,
    "start_time": "2022-07-24T13:24:10.655Z"
   },
   {
    "duration": 292,
    "start_time": "2022-07-24T13:24:10.812Z"
   },
   {
    "duration": 76,
    "start_time": "2022-07-24T13:24:11.106Z"
   },
   {
    "duration": 58,
    "start_time": "2022-07-24T13:24:11.183Z"
   },
   {
    "duration": 20,
    "start_time": "2022-07-24T13:24:11.243Z"
   },
   {
    "duration": 279,
    "start_time": "2022-07-24T13:24:11.265Z"
   },
   {
    "duration": 182,
    "start_time": "2022-07-24T13:24:11.546Z"
   },
   {
    "duration": 105,
    "start_time": "2022-07-24T13:24:11.730Z"
   },
   {
    "duration": 9,
    "start_time": "2022-07-24T13:24:11.837Z"
   },
   {
    "duration": 9,
    "start_time": "2022-07-24T13:24:11.848Z"
   },
   {
    "duration": 20,
    "start_time": "2022-07-24T13:33:30.442Z"
   }
  ],
  "kernelspec": {
   "display_name": "Python 3 (ipykernel)",
   "language": "python",
   "name": "python3"
  },
  "language_info": {
   "codemirror_mode": {
    "name": "ipython",
    "version": 3
   },
   "file_extension": ".py",
   "mimetype": "text/x-python",
   "name": "python",
   "nbconvert_exporter": "python",
   "pygments_lexer": "ipython3",
   "version": "3.9.12"
  },
  "toc": {
   "base_numbering": 1,
   "nav_menu": {},
   "number_sections": true,
   "sideBar": true,
   "skip_h1_title": true,
   "title_cell": "Table of Contents",
   "title_sidebar": "Contents",
   "toc_cell": true,
   "toc_position": {
    "height": "calc(100% - 180px)",
    "left": "10px",
    "top": "150px",
    "width": "303.225px"
   },
   "toc_section_display": true,
   "toc_window_display": true
  }
 },
 "nbformat": 4,
 "nbformat_minor": 5
}
